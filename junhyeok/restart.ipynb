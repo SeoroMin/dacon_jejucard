{
 "cells": [
  {
   "cell_type": "markdown",
   "metadata": {},
   "source": [
    "# 레츠기리리리이이ㅣ이이잇"
   ]
  },
  {
   "cell_type": "code",
   "execution_count": 1,
   "metadata": {},
   "outputs": [],
   "source": [
    "import pandas as pd\n",
    "import numpy as np\n",
    "import os \n",
    "import matplotlib.pyplot as plt\n",
    "import seaborn as sns\n",
    "import warnings\n",
    "warnings.filterwarnings('ignore')\n",
    "\n",
    "%matplotlib inline"
   ]
  },
  {
   "cell_type": "code",
   "execution_count": 4,
   "metadata": {},
   "outputs": [],
   "source": [
    "# card 데이터 로드\n",
    "card = pd.read_csv(\"CARD_SPENDING_RESIDENT.txt\", sep=\"\\t\")\n",
    "\n",
    "card_dong = pd.read_excel(\"card_instruct.xlsx\", sheet_name=1, header=1).drop('Unnamed: 0', axis=1)\n",
    "\n",
    "card = card.merge(card_dong, how='left', left_on = ['GU_CD', 'DONG_CD'], right_on = ['구코드', '행정동코드'])"
   ]
  },
  {
   "cell_type": "code",
   "execution_count": 5,
   "metadata": {},
   "outputs": [],
   "source": [
    "# sk 유동인구 파일 로드\n",
    "os.chdir('./sk')\n",
    "files_sk = os.listdir()\n",
    "\n",
    "sk = pd.DataFrame()\n",
    "\n",
    "for file in files_sk[:8]:\n",
    "    temp = pd.read_csv(file, sep=\"|\")\n",
    "    \n",
    "    sk = sk.append(temp)"
   ]
  },
  {
   "cell_type": "code",
   "execution_count": 6,
   "metadata": {},
   "outputs": [],
   "source": [
    "# cj 물류 파일 로드\n",
    "os.chdir(\"../cj\")\n",
    "\n",
    "cj = pd.read_excel('cj_data.xlsx')"
   ]
  },
  {
   "cell_type": "code",
   "execution_count": 7,
   "metadata": {},
   "outputs": [],
   "source": [
    "# cj 데이터의 시/군/구 정보 추출\n",
    "dong_info  = cj[['CTPV_NM', 'CTGG_NM', 'HDNG_NM']].drop_duplicates()"
   ]
  },
  {
   "cell_type": "markdown",
   "metadata": {},
   "source": [
    "년도/월/일 주차별 정보로 나누기 위해서 date_table과 합성"
   ]
  },
  {
   "cell_type": "code",
   "execution_count": 8,
   "metadata": {},
   "outputs": [],
   "source": [
    "os.chdir('C:\\\\Users\\\\mo223\\\\Desktop\\\\big contest\\\\big_con_data')\n",
    "date_table = pd.read_csv(\"date_table.csv\")"
   ]
  },
  {
   "cell_type": "code",
   "execution_count": 9,
   "metadata": {},
   "outputs": [
    {
     "data": {
      "text/html": [
       "<div>\n",
       "<style scoped>\n",
       "    .dataframe tbody tr th:only-of-type {\n",
       "        vertical-align: middle;\n",
       "    }\n",
       "\n",
       "    .dataframe tbody tr th {\n",
       "        vertical-align: top;\n",
       "    }\n",
       "\n",
       "    .dataframe thead th {\n",
       "        text-align: right;\n",
       "    }\n",
       "</style>\n",
       "<table border=\"1\" class=\"dataframe\">\n",
       "  <thead>\n",
       "    <tr style=\"text-align: right;\">\n",
       "      <th></th>\n",
       "      <th>STD_DD</th>\n",
       "      <th>GU_CD</th>\n",
       "      <th>DONG_CD</th>\n",
       "      <th>MCT_CAT_CD</th>\n",
       "      <th>SEX_CD</th>\n",
       "      <th>AGE_CD</th>\n",
       "      <th>USE_CNT</th>\n",
       "      <th>USE_AMT</th>\n",
       "      <th>구코드</th>\n",
       "      <th>행정동코드</th>\n",
       "      <th>구명</th>\n",
       "      <th>행정동명</th>\n",
       "    </tr>\n",
       "  </thead>\n",
       "  <tbody>\n",
       "    <tr>\n",
       "      <th>0</th>\n",
       "      <td>20190201</td>\n",
       "      <td>110</td>\n",
       "      <td>517</td>\n",
       "      <td>10</td>\n",
       "      <td>F</td>\n",
       "      <td>25</td>\n",
       "      <td>11</td>\n",
       "      <td>595</td>\n",
       "      <td>110</td>\n",
       "      <td>517</td>\n",
       "      <td>대구 중구</td>\n",
       "      <td>동인동</td>\n",
       "    </tr>\n",
       "    <tr>\n",
       "      <th>1</th>\n",
       "      <td>20190201</td>\n",
       "      <td>110</td>\n",
       "      <td>517</td>\n",
       "      <td>10</td>\n",
       "      <td>F</td>\n",
       "      <td>50</td>\n",
       "      <td>5</td>\n",
       "      <td>243</td>\n",
       "      <td>110</td>\n",
       "      <td>517</td>\n",
       "      <td>대구 중구</td>\n",
       "      <td>동인동</td>\n",
       "    </tr>\n",
       "    <tr>\n",
       "      <th>2</th>\n",
       "      <td>20190201</td>\n",
       "      <td>110</td>\n",
       "      <td>517</td>\n",
       "      <td>10</td>\n",
       "      <td>F</td>\n",
       "      <td>55</td>\n",
       "      <td>5</td>\n",
       "      <td>27</td>\n",
       "      <td>110</td>\n",
       "      <td>517</td>\n",
       "      <td>대구 중구</td>\n",
       "      <td>동인동</td>\n",
       "    </tr>\n",
       "    <tr>\n",
       "      <th>3</th>\n",
       "      <td>20190201</td>\n",
       "      <td>110</td>\n",
       "      <td>517</td>\n",
       "      <td>10</td>\n",
       "      <td>M</td>\n",
       "      <td>20</td>\n",
       "      <td>11</td>\n",
       "      <td>243</td>\n",
       "      <td>110</td>\n",
       "      <td>517</td>\n",
       "      <td>대구 중구</td>\n",
       "      <td>동인동</td>\n",
       "    </tr>\n",
       "    <tr>\n",
       "      <th>4</th>\n",
       "      <td>20190201</td>\n",
       "      <td>110</td>\n",
       "      <td>517</td>\n",
       "      <td>10</td>\n",
       "      <td>M</td>\n",
       "      <td>25</td>\n",
       "      <td>11</td>\n",
       "      <td>433</td>\n",
       "      <td>110</td>\n",
       "      <td>517</td>\n",
       "      <td>대구 중구</td>\n",
       "      <td>동인동</td>\n",
       "    </tr>\n",
       "    <tr>\n",
       "      <th>...</th>\n",
       "      <td>...</td>\n",
       "      <td>...</td>\n",
       "      <td>...</td>\n",
       "      <td>...</td>\n",
       "      <td>...</td>\n",
       "      <td>...</td>\n",
       "      <td>...</td>\n",
       "      <td>...</td>\n",
       "      <td>...</td>\n",
       "      <td>...</td>\n",
       "      <td>...</td>\n",
       "      <td>...</td>\n",
       "    </tr>\n",
       "    <tr>\n",
       "      <th>2537748</th>\n",
       "      <td>20200531</td>\n",
       "      <td>350</td>\n",
       "      <td>720</td>\n",
       "      <td>81</td>\n",
       "      <td>M</td>\n",
       "      <td>45</td>\n",
       "      <td>19</td>\n",
       "      <td>127</td>\n",
       "      <td>350</td>\n",
       "      <td>720</td>\n",
       "      <td>서울 노원구</td>\n",
       "      <td>상계10동</td>\n",
       "    </tr>\n",
       "    <tr>\n",
       "      <th>2537749</th>\n",
       "      <td>20200531</td>\n",
       "      <td>350</td>\n",
       "      <td>720</td>\n",
       "      <td>81</td>\n",
       "      <td>M</td>\n",
       "      <td>50</td>\n",
       "      <td>33</td>\n",
       "      <td>211</td>\n",
       "      <td>350</td>\n",
       "      <td>720</td>\n",
       "      <td>서울 노원구</td>\n",
       "      <td>상계10동</td>\n",
       "    </tr>\n",
       "    <tr>\n",
       "      <th>2537750</th>\n",
       "      <td>20200531</td>\n",
       "      <td>350</td>\n",
       "      <td>720</td>\n",
       "      <td>81</td>\n",
       "      <td>M</td>\n",
       "      <td>55</td>\n",
       "      <td>9</td>\n",
       "      <td>61</td>\n",
       "      <td>350</td>\n",
       "      <td>720</td>\n",
       "      <td>서울 노원구</td>\n",
       "      <td>상계10동</td>\n",
       "    </tr>\n",
       "    <tr>\n",
       "      <th>2537751</th>\n",
       "      <td>20200531</td>\n",
       "      <td>350</td>\n",
       "      <td>720</td>\n",
       "      <td>81</td>\n",
       "      <td>M</td>\n",
       "      <td>60</td>\n",
       "      <td>19</td>\n",
       "      <td>194</td>\n",
       "      <td>350</td>\n",
       "      <td>720</td>\n",
       "      <td>서울 노원구</td>\n",
       "      <td>상계10동</td>\n",
       "    </tr>\n",
       "    <tr>\n",
       "      <th>2537752</th>\n",
       "      <td>20200531</td>\n",
       "      <td>350</td>\n",
       "      <td>720</td>\n",
       "      <td>81</td>\n",
       "      <td>M</td>\n",
       "      <td>65</td>\n",
       "      <td>5</td>\n",
       "      <td>29</td>\n",
       "      <td>350</td>\n",
       "      <td>720</td>\n",
       "      <td>서울 노원구</td>\n",
       "      <td>상계10동</td>\n",
       "    </tr>\n",
       "  </tbody>\n",
       "</table>\n",
       "<p>2537753 rows × 12 columns</p>\n",
       "</div>"
      ],
      "text/plain": [
       "           STD_DD  GU_CD  DONG_CD  MCT_CAT_CD SEX_CD  AGE_CD  USE_CNT  \\\n",
       "0        20190201    110      517          10      F      25       11   \n",
       "1        20190201    110      517          10      F      50        5   \n",
       "2        20190201    110      517          10      F      55        5   \n",
       "3        20190201    110      517          10      M      20       11   \n",
       "4        20190201    110      517          10      M      25       11   \n",
       "...           ...    ...      ...         ...    ...     ...      ...   \n",
       "2537748  20200531    350      720          81      M      45       19   \n",
       "2537749  20200531    350      720          81      M      50       33   \n",
       "2537750  20200531    350      720          81      M      55        9   \n",
       "2537751  20200531    350      720          81      M      60       19   \n",
       "2537752  20200531    350      720          81      M      65        5   \n",
       "\n",
       "         USE_AMT  구코드  행정동코드      구명   행정동명  \n",
       "0            595  110    517   대구 중구    동인동  \n",
       "1            243  110    517   대구 중구    동인동  \n",
       "2             27  110    517   대구 중구    동인동  \n",
       "3            243  110    517   대구 중구    동인동  \n",
       "4            433  110    517   대구 중구    동인동  \n",
       "...          ...  ...    ...     ...    ...  \n",
       "2537748      127  350    720  서울 노원구  상계10동  \n",
       "2537749      211  350    720  서울 노원구  상계10동  \n",
       "2537750       61  350    720  서울 노원구  상계10동  \n",
       "2537751      194  350    720  서울 노원구  상계10동  \n",
       "2537752       29  350    720  서울 노원구  상계10동  \n",
       "\n",
       "[2537753 rows x 12 columns]"
      ]
     },
     "execution_count": 9,
     "metadata": {},
     "output_type": "execute_result"
    }
   ],
   "source": [
    "card"
   ]
  },
  {
   "cell_type": "code",
   "execution_count": 10,
   "metadata": {},
   "outputs": [],
   "source": [
    "# card 데이터 & date_table & dong_info 테이블 합성\n",
    "card = card.merge(date_table, how='left', on='STD_DD')\n",
    "card = card.merge(dong_info, how='left', left_on = '행정동명', right_on = 'HDNG_NM')\n",
    "card.drop(['STD_DD','구명', '행정동명'], axis=1, inplace=True)\n",
    "\n",
    "# sk 데이터 & date_table & dong_info 테이블 합성\n",
    "sk = sk.merge(date_table, how='left', left_on = 'STD_YMD', right_on = 'STD_DD')\n",
    "sk = sk.merge(dong_info, how='left', left_on = 'HDONG_NM', right_on = 'HDNG_NM')\n",
    "sk.drop(['STD_YM', 'STD_YMD', 'HDONG_NM'], axis=1, inplace = True)"
   ]
  },
  {
   "cell_type": "code",
   "execution_count": 11,
   "metadata": {},
   "outputs": [],
   "source": [
    "# cj 데이터 일자 양식맞추기\n",
    "cj['DL_YMD'] = cj['DL_YMD'] + 20000000\n",
    "\n",
    "# cj 데이터 년 / 월 / 일 / 주차 / 요일 합치기\n",
    "cj = cj.merge(date_table, how='left', left_on = 'DL_YMD', right_on = 'STD_DD')"
   ]
  },
  {
   "cell_type": "markdown",
   "metadata": {},
   "source": [
    "# 카드매출데이터를 바탕으로 구간 설정"
   ]
  },
  {
   "cell_type": "code",
   "execution_count": 12,
   "metadata": {},
   "outputs": [
    {
     "data": {
      "text/plain": [
       "<matplotlib.lines.Line2D at 0x21f0d64c6a0>"
      ]
     },
     "execution_count": 12,
     "metadata": {},
     "output_type": "execute_result"
    },
    {
     "data": {
      "image/png": "[encoded data removed]",
      "text/plain": [
       "<Figure size 432x288 with 1 Axes>"
      ]
     },
     "metadata": {
      "needs_background": "light"
     },
     "output_type": "display_data"
    }
   ],
   "source": [
    "# 사용할 데이터만 추려내기\n",
    "card_sep = card[['year','month', 'day','week_num','USE_AMT', 'USE_CNT']]\n",
    "\n",
    "# 2019년, 2020년 카드 데이터 나누기\n",
    "card_sep_2019 = card_sep[card_sep['year'] == 2019]\n",
    "card_sep_2020 = card_sep[card_sep['year'] == 2020]\n",
    "\n",
    "# 월/일/주차를 기준으로 카드 매출의 합산량을 구함.\n",
    "card_sep_2019_group = card_sep_2019.pivot_table(index = ['month', 'day', 'week_num'], values='USE_AMT', aggfunc='sum').reset_index()\n",
    "card_sep_2020_group = card_sep_2020.pivot_table(index = ['month', 'day', 'week_num'], values='USE_AMT', aggfunc='sum').reset_index()\n",
    "\n",
    "# 각 일별 카드 매출의 3일 이동평균값을 계산\n",
    "# why? 주차별로 비교하기 위해 토-일 전체의 데이터가 없는 \n",
    "# 2019년 4주차, 2020년 4, 22주차의 데이터를 걸러내기 위함\n",
    "card_sep_2019_group['rolling'] = card_sep_2019_group['USE_AMT'].rolling(window=3).mean()\n",
    "card_sep_2020_group['rolling'] = card_sep_2020_group['USE_AMT'].rolling(window=3).mean()\n",
    "\n",
    "# 주차별 이동평균 값의 평균값 산출\n",
    "card_sep_2019_week = card_sep_2019_group.groupby(\"week_num\")['rolling'].mean()\n",
    "card_sep_2020_week = card_sep_2020_group.groupby(\"week_num\")['rolling'].mean()\n",
    "\n",
    "# 그래프 그리기\n",
    "plt.plot(card_sep_2019_week[1:])\n",
    "plt.plot(card_sep_2020_week[1:-1])\n",
    "\n",
    "plt.xticks(range(5,22))\n",
    "plt.axvline(x=6, color='red')\n",
    "plt.axvline(x=8, color='red')\n",
    "\n",
    "plt.axvline(x=19, color='blue')\n",
    "plt.axvline(x=21, color='blue')"
   ]
  },
  {
   "cell_type": "code",
   "execution_count": 13,
   "metadata": {
    "scrolled": true
   },
   "outputs": [
    {
     "data": {
      "text/plain": [
       "<matplotlib.lines.Line2D at 0x21f57d9c880>"
      ]
     },
     "execution_count": 13,
     "metadata": {},
     "output_type": "execute_result"
    },
    {
     "data": {
      "image/png": "[encoded data removed]",
      "text/plain": [
       "<Figure size 432x288 with 1 Axes>"
      ]
     },
     "metadata": {
      "needs_background": "light"
     },
     "output_type": "display_data"
    }
   ],
   "source": [
    "plt.plot(card_sep_2019_week[1:] - card_sep_2020_week[1:-1])\n",
    "plt.xticks(range(5,22))\n",
    "# 매출이 확 줄어드는 시기\n",
    "# 이후 점점 회복세\n",
    "plt.axvline(x=6, color='red')\n",
    "plt.axvline(x=8, color='red')\n",
    "\n",
    "# 매출이 급증하며 기본 카드매출을 따라잡는 구간\n",
    "# 새로운 경제의 트랜드를 나타내는 시기가 아닐까 싶음\n",
    "plt.axvline(x=19, color='blue')\n",
    "plt.axvline(x=21, color='blue')"
   ]
  },
  {
   "cell_type": "markdown",
   "metadata": {},
   "source": [
    "이를 근거로 카드 매출이 급감한 6-8주차 -> 소비 위축\n",
    "\n",
    "9주차 부터 점점 소비활동이 정상 범주로 돌아오고 있음\n",
    "\n",
    "변화의 기울기로 볼때 19-21주차에 소비가 안정되고 기존 카드 매출액을 따라 잡으며\n",
    "새로운 소비형태를 보여줄 수 있는 시기라고 생각"
   ]
  },
  {
   "cell_type": "markdown",
   "metadata": {},
   "source": [
    "## 방향성 : 6-8 주차의 유동인구 & 물류의 변화율을 바탕으로 특징별 집단을 나눈 뒤, 새로운 소비 트랜드가 부상했다고 생각하는 19-21주차의 집단별 각 년도의 매출 데이터를 분석하면 뉴노멀 트랜드를 잡을 수 있지 않을까 싶음"
   ]
  },
  {
   "cell_type": "markdown",
   "metadata": {},
   "source": [
    "19년도(19년 6-8 각 주차 평균 = 100p) 대비 2020년 6-8주차의 유동인구 상대 크기를 나타내는 \"유동 지수\"\n",
    "\n",
    "(유동인구의 감소가 일반적인 현상일 수 있기때문에 이를 보정해주고자 함)"
   ]
  },
  {
   "cell_type": "code",
   "execution_count": 14,
   "metadata": {},
   "outputs": [],
   "source": [
    "# 일 ~ 토를 한 주 기준으로 보고 총 주차 데이터가 부족한 2019년 4주, 2020년 4주, 22주는 분석에서 제외\n",
    "# 2019년 4주 인덱스 추출\n",
    "week_index_201904 = sk[(sk['year'] == 2019) & (sk['week_num'] == 4)].index.tolist()\n",
    "# 2020년 4주 인덱스 추출\n",
    "week_index_202004 = sk[(sk['year'] == 2020) & (sk['week_num'] == 4)].index.tolist()\n",
    "# 2020년 22주 인덱스 추출\n",
    "week_index_202022 = sk[(sk['year'] == 2020) & (sk['week_num'] == 22)].index.tolist()\n",
    "\n",
    "remove_index = week_index_201904 + week_index_202004 + week_index_202022\n",
    "\n",
    "# 전체 데이터에서 제거\n",
    "sk = sk.drop(remove_index,axis=0).reset_index(drop=True)"
   ]
  },
  {
   "cell_type": "code",
   "execution_count": 15,
   "metadata": {
    "scrolled": true
   },
   "outputs": [
    {
     "data": {
      "text/plain": [
       "(16353, 41)"
      ]
     },
     "execution_count": 15,
     "metadata": {},
     "output_type": "execute_result"
    }
   ],
   "source": [
    "sk.shape"
   ]
  },
  {
   "cell_type": "code",
   "execution_count": 16,
   "metadata": {},
   "outputs": [],
   "source": [
    "# 유동인구를 나타내는 칼럼들\n",
    "num_columns = ['MAN_FLOW_POP_CNT_0004',\n",
    "       'MAN_FLOW_POP_CNT_0509', 'MAN_FLOW_POP_CNT_1014',\n",
    "       'MAN_FLOW_POP_CNT_1519', 'MAN_FLOW_POP_CNT_2024',\n",
    "       'MAN_FLOW_POP_CNT_2529', 'MAN_FLOW_POP_CNT_3034',\n",
    "       'MAN_FLOW_POP_CNT_3539', 'MAN_FLOW_POP_CNT_4044',\n",
    "       'MAN_FLOW_POP_CNT_4549', 'MAN_FLOW_POP_CNT_5054',\n",
    "       'MAN_FLOW_POP_CNT_5559', 'MAN_FLOW_POP_CNT_6064',\n",
    "       'MAN_FLOW_POP_CNT_6569', 'MAN_FLOW_POP_CNT_70U',\n",
    "       'WMAN_FLOW_POP_CNT_0004', 'WMAN_FLOW_POP_CNT_0509',\n",
    "       'WMAN_FLOW_POP_CNT_1014', 'WMAN_FLOW_POP_CNT_1519',\n",
    "       'WMAN_FLOW_POP_CNT_2024', 'WMAN_FLOW_POP_CNT_2529',\n",
    "       'WMAN_FLOW_POP_CNT_3034', 'WMAN_FLOW_POP_CNT_3539',\n",
    "       'WMAN_FLOW_POP_CNT_4044', 'WMAN_FLOW_POP_CNT_4549',\n",
    "       'WMAN_FLOW_POP_CNT_5054', 'WMAN_FLOW_POP_CNT_5559',\n",
    "       'WMAN_FLOW_POP_CNT_6064', 'WMAN_FLOW_POP_CNT_6569',\n",
    "       'WMAN_FLOW_POP_CNT_70U']"
   ]
  },
  {
   "cell_type": "code",
   "execution_count": 17,
   "metadata": {},
   "outputs": [],
   "source": [
    "# 유동인구의 합 계산\n",
    "sk['sum_flow'] = sk[num_columns].sum(axis=1)"
   ]
  },
  {
   "cell_type": "code",
   "execution_count": 18,
   "metadata": {},
   "outputs": [],
   "source": [
    "# 서울 / 대구 분리\n",
    "sk_seoul = sk[sk['CTPV_NM'] == '서울특별시']\n",
    "sk_daegu = sk[sk['CTPV_NM'] == '대구광역시']\n",
    "\n",
    "# 각 지역 2019, 2020년 분리\n",
    "sk_seoul_2019 = sk_seoul[sk_seoul['year'] == 2019]\n",
    "sk_seoul_2020 = sk_seoul[sk_seoul['year'] == 2020]\n",
    "sk_daegu_2019 = sk_daegu[sk_daegu['year'] == 2019]\n",
    "sk_daegu_2020 = sk_daegu[sk_daegu['year'] == 2020]\n",
    "\n",
    "# 기존 가설대로 6-8 주차의 유동인구 데이터 분석을 위해 테이블 분리\n",
    "sk_seoul_2019_sep = sk_seoul_2019[sk_seoul_2019['week_num'].isin(range(6,9))]\n",
    "sk_seoul_2020_sep = sk_seoul_2020[sk_seoul_2020['week_num'].isin(range(6,9))]\n",
    "sk_daegu_2019_sep = sk_daegu_2019[sk_daegu_2019['week_num'].isin(range(6,9))]\n",
    "sk_daegu_2020_sep = sk_daegu_2020[sk_daegu_2020['week_num'].isin(range(6,9))]"
   ]
  },
  {
   "cell_type": "code",
   "execution_count": null,
   "metadata": {},
   "outputs": [],
   "source": []
  },
  {
   "cell_type": "code",
   "execution_count": 19,
   "metadata": {},
   "outputs": [
    {
     "data": {
      "text/plain": [
       "<matplotlib.lines.Line2D at 0x21f0d958ee0>"
      ]
     },
     "execution_count": 19,
     "metadata": {},
     "output_type": "execute_result"
    },
    {
     "data": {
      "image/png": "[encoded data removed]",
      "text/plain": [
       "<Figure size 432x288 with 1 Axes>"
      ]
     },
     "metadata": {
      "needs_background": "light"
     },
     "output_type": "display_data"
    }
   ],
   "source": [
    "sk_seoul_2019.groupby(\"week_num\")['sum_flow'].mean().plot()\n",
    "sk_seoul_2020.groupby(\"week_num\")['sum_flow'].mean().plot()\n",
    "plt.xticks(range(5,22))\n",
    "plt.axvline(x=6, color='red')\n",
    "plt.axvline(x=8, color='red')"
   ]
  },
  {
   "cell_type": "code",
   "execution_count": 20,
   "metadata": {
    "scrolled": true
   },
   "outputs": [
    {
     "data": {
      "text/plain": [
       "<matplotlib.lines.Line2D at 0x21f57d83a90>"
      ]
     },
     "execution_count": 20,
     "metadata": {},
     "output_type": "execute_result"
    },
    {
     "data": {
      "image/png": "[encoded data removed]",
      "text/plain": [
       "<Figure size 432x288 with 1 Axes>"
      ]
     },
     "metadata": {
      "needs_background": "light"
     },
     "output_type": "display_data"
    }
   ],
   "source": [
    "sk_daegu_2019.groupby(\"week_num\")['sum_flow'].mean().plot()\n",
    "sk_daegu_2020.groupby(\"week_num\")['sum_flow'].mean().plot()\n",
    "plt.xticks(range(5,22))\n",
    "plt.axvline(x=6, color='red')\n",
    "plt.axvline(x=8, color='red')"
   ]
  },
  {
   "cell_type": "code",
   "execution_count": 21,
   "metadata": {},
   "outputs": [
    {
     "data": {
      "text/plain": [
       "74.68449978696867"
      ]
     },
     "execution_count": 21,
     "metadata": {},
     "output_type": "execute_result"
    }
   ],
   "source": [
    "# 서울의 6-8주차 유동인구 변화지수\n",
    "(sk_seoul_2020_sep['sum_flow'].mean() * 100) / sk_seoul_2019_sep['sum_flow'].mean()"
   ]
  },
  {
   "cell_type": "code",
   "execution_count": 22,
   "metadata": {},
   "outputs": [
    {
     "data": {
      "text/plain": [
       "74.6947302411632"
      ]
     },
     "execution_count": 22,
     "metadata": {},
     "output_type": "execute_result"
    }
   ],
   "source": [
    "# 대구의 6-8주차 유동인구 변화지수\n",
    "(sk_daegu_2020_sep['sum_flow'].mean() * 100) / sk_daegu_2019_sep['sum_flow'].mean()"
   ]
  },
  {
   "cell_type": "markdown",
   "metadata": {},
   "source": [
    "??? 왜 비슷하지..\n",
    "\n",
    "서울이랑 대구 퉁쳐서 해보기"
   ]
  },
  {
   "cell_type": "code",
   "execution_count": 23,
   "metadata": {},
   "outputs": [],
   "source": [
    "# 19년 20년 퉁치기\n",
    "sk_2019 = sk[sk['year'] == 2019]\n",
    "sk_2020 = sk[sk['year'] == 2020]\n",
    "\n",
    "sk_2019_sep = sk_2019[sk_2019['week_num'].isin(range(6, 9))]\n",
    "sk_2020_sep = sk_2020[sk_2020['week_num'].isin(range(6, 9))]"
   ]
  },
  {
   "cell_type": "code",
   "execution_count": 24,
   "metadata": {},
   "outputs": [
    {
     "data": {
      "text/plain": [
       "74.63873755290457"
      ]
     },
     "execution_count": 24,
     "metadata": {},
     "output_type": "execute_result"
    }
   ],
   "source": [
    "(sk_2020_sep['sum_flow'].mean() * 100) / sk_2019_sep['sum_flow'].mean()"
   ]
  },
  {
   "cell_type": "markdown",
   "metadata": {},
   "source": [
    "### -> 이로 미루어보아 6-8주차의 서울 / 대구의 유동인구 감소율은 비슷!"
   ]
  },
  {
   "cell_type": "markdown",
   "metadata": {},
   "source": [
    "# 구별로 한번 보자"
   ]
  },
  {
   "cell_type": "code",
   "execution_count": 25,
   "metadata": {},
   "outputs": [],
   "source": [
    "from matplotlib import font_manager, rc\n",
    "import platform \n",
    "\n",
    "# 한글 폰트 사용\n",
    "if platform.system() == 'Windows': \n",
    "    path = 'c:/Windows/Fonts/malgun.ttf'\n",
    "    font_name = font_manager.FontProperties(fname=path).get_name()\n",
    "    rc('font', family=font_name)\n",
    "elif platform.system() == 'Darwin':\n",
    "    rc('font', family='AppleGothic')"
   ]
  },
  {
   "cell_type": "code",
   "execution_count": 26,
   "metadata": {},
   "outputs": [],
   "source": [
    "sk_seoul_gu_sep = sk_seoul_2019_sep.pivot_table(index=['CTGG_NM', 'week_num'], values='sum_flow', aggfunc='mean')\n",
    "\n",
    "sk_seoul_gu_sep.columns =['sum_flow_2019']\n",
    "sk_seoul_gu_sep['sum_flow_2020'] = sk_seoul_2020_sep.pivot_table(index=['CTGG_NM', 'week_num'], values='sum_flow', aggfunc='mean')['sum_flow']\n",
    "\n",
    "sk_seoul_gu_sep.reset_index(inplace= True)"
   ]
  },
  {
   "cell_type": "code",
   "execution_count": 27,
   "metadata": {},
   "outputs": [
    {
     "data": {
      "text/plain": [
       "([<matplotlib.axis.XTick at 0x21f0d99c4f0>,\n",
       "  <matplotlib.axis.XTick at 0x21f0dac83d0>,\n",
       "  <matplotlib.axis.XTick at 0x21f0da62580>],\n",
       " <a list of 3 Text major ticklabel objects>)"
      ]
     },
     "execution_count": 27,
     "metadata": {},
     "output_type": "execute_result"
    },
    {
     "data": {
      "image/png": "[encoded data removed]",
      "text/plain": [
       "<Figure size 432x288 with 1 Axes>"
      ]
     },
     "metadata": {
      "needs_background": "light"
     },
     "output_type": "display_data"
    }
   ],
   "source": [
    "sns.lineplot(x='week_num', y = 'sum_flow_2019',hue='CTGG_NM', data = sk_seoul_gu_sep)\n",
    "plt.xticks(range(6,9))\n"
   ]
  },
  {
   "cell_type": "code",
   "execution_count": 28,
   "metadata": {},
   "outputs": [
    {
     "data": {
      "text/plain": [
       "([<matplotlib.axis.XTick at 0x21f0da628e0>,\n",
       "  <matplotlib.axis.XTick at 0x21f0da628b0>,\n",
       "  <matplotlib.axis.XTick at 0x21f0d6c7160>],\n",
       " <a list of 3 Text major ticklabel objects>)"
      ]
     },
     "execution_count": 28,
     "metadata": {},
     "output_type": "execute_result"
    },
    {
     "data": {
      "image/png": "[encoded data removed]",
      "text/plain": [
       "<Figure size 432x288 with 1 Axes>"
      ]
     },
     "metadata": {
      "needs_background": "light"
     },
     "output_type": "display_data"
    }
   ],
   "source": [
    "sns.lineplot(x='week_num', y = 'sum_flow_2020',hue='CTGG_NM', data = sk_seoul_gu_sep)\n",
    "sns.lineplot(x='week_num', y = 'sum_flow_2019',hue='CTGG_NM', data = sk_seoul_gu_sep)\n",
    "plt.xticks(range(6,9))"
   ]
  },
  {
   "cell_type": "code",
   "execution_count": 29,
   "metadata": {},
   "outputs": [
    {
     "data": {
      "text/html": [
       "<div>\n",
       "<style scoped>\n",
       "    .dataframe tbody tr th:only-of-type {\n",
       "        vertical-align: middle;\n",
       "    }\n",
       "\n",
       "    .dataframe tbody tr th {\n",
       "        vertical-align: top;\n",
       "    }\n",
       "\n",
       "    .dataframe thead th {\n",
       "        text-align: right;\n",
       "    }\n",
       "</style>\n",
       "<table border=\"1\" class=\"dataframe\">\n",
       "  <thead>\n",
       "    <tr style=\"text-align: right;\">\n",
       "      <th></th>\n",
       "      <th>sum_flow_2019</th>\n",
       "      <th>sum_flow_2020</th>\n",
       "      <th>decrease_ratio</th>\n",
       "    </tr>\n",
       "    <tr>\n",
       "      <th>CTGG_NM</th>\n",
       "      <th></th>\n",
       "      <th></th>\n",
       "      <th></th>\n",
       "    </tr>\n",
       "  </thead>\n",
       "  <tbody>\n",
       "    <tr>\n",
       "      <th>노원구</th>\n",
       "      <td>85775.745113</td>\n",
       "      <td>68750.691003</td>\n",
       "      <td>80.151669</td>\n",
       "    </tr>\n",
       "    <tr>\n",
       "      <th>중구</th>\n",
       "      <td>138501.051122</td>\n",
       "      <td>97074.489252</td>\n",
       "      <td>70.089352</td>\n",
       "    </tr>\n",
       "  </tbody>\n",
       "</table>\n",
       "</div>"
      ],
      "text/plain": [
       "         sum_flow_2019  sum_flow_2020  decrease_ratio\n",
       "CTGG_NM                                              \n",
       "노원구       85775.745113   68750.691003       80.151669\n",
       "중구       138501.051122   97074.489252       70.089352"
      ]
     },
     "execution_count": 29,
     "metadata": {},
     "output_type": "execute_result"
    }
   ],
   "source": [
    "sk_seoul_gu_gap = sk_seoul_gu_sep.groupby(\"CTGG_NM\")[['sum_flow_2019', 'sum_flow_2020']].mean()\n",
    "sk_seoul_gu_gap['decrease_ratio'] = (sk_seoul_gu_gap['sum_flow_2020'] * 100) / sk_seoul_gu_gap['sum_flow_2019']\n",
    "sk_seoul_gu_gap"
   ]
  },
  {
   "cell_type": "markdown",
   "metadata": {},
   "source": [
    "## 노원구에 비해 중구가 확실히 더 많이 줄어든 모습"
   ]
  },
  {
   "cell_type": "markdown",
   "metadata": {},
   "source": [
    "유동인구량의 감소율의 총 량 : 74.63873755290457 인데 비해\n",
    "\n",
    "노원구는 줄긴했으나 총 변동률 대비 별로 안줄어들었고, 중구는 총 변동률보다 많이 줄어든 모습이다.\n",
    "\n",
    "-> 유동인구의 타격은 중구 > 노원구"
   ]
  },
  {
   "cell_type": "markdown",
   "metadata": {},
   "source": [
    "# 이제 행정동별로 봐보자잉"
   ]
  },
  {
   "cell_type": "code",
   "execution_count": 31,
   "metadata": {},
   "outputs": [
    {
     "data": {
      "text/html": [
       "<div>\n",
       "<style scoped>\n",
       "    .dataframe tbody tr th:only-of-type {\n",
       "        vertical-align: middle;\n",
       "    }\n",
       "\n",
       "    .dataframe tbody tr th {\n",
       "        vertical-align: top;\n",
       "    }\n",
       "\n",
       "    .dataframe thead th {\n",
       "        text-align: right;\n",
       "    }\n",
       "</style>\n",
       "<table border=\"1\" class=\"dataframe\">\n",
       "  <thead>\n",
       "    <tr style=\"text-align: right;\">\n",
       "      <th></th>\n",
       "      <th>CTGG_NM</th>\n",
       "      <th>HDNG_NM</th>\n",
       "      <th>week_num</th>\n",
       "      <th>sum_flow_2019</th>\n",
       "      <th>sum_flow_2020</th>\n",
       "    </tr>\n",
       "  </thead>\n",
       "  <tbody>\n",
       "    <tr>\n",
       "      <th>0</th>\n",
       "      <td>노원구</td>\n",
       "      <td>공릉1동</td>\n",
       "      <td>6</td>\n",
       "      <td>179784.165714</td>\n",
       "      <td>152344.520000</td>\n",
       "    </tr>\n",
       "    <tr>\n",
       "      <th>1</th>\n",
       "      <td>노원구</td>\n",
       "      <td>공릉1동</td>\n",
       "      <td>7</td>\n",
       "      <td>186025.681429</td>\n",
       "      <td>150330.804286</td>\n",
       "    </tr>\n",
       "    <tr>\n",
       "      <th>2</th>\n",
       "      <td>노원구</td>\n",
       "      <td>공릉1동</td>\n",
       "      <td>8</td>\n",
       "      <td>182620.527143</td>\n",
       "      <td>133488.055714</td>\n",
       "    </tr>\n",
       "    <tr>\n",
       "      <th>3</th>\n",
       "      <td>노원구</td>\n",
       "      <td>공릉2동</td>\n",
       "      <td>6</td>\n",
       "      <td>179784.255714</td>\n",
       "      <td>144128.342857</td>\n",
       "    </tr>\n",
       "    <tr>\n",
       "      <th>4</th>\n",
       "      <td>노원구</td>\n",
       "      <td>공릉2동</td>\n",
       "      <td>7</td>\n",
       "      <td>186380.051429</td>\n",
       "      <td>138100.390000</td>\n",
       "    </tr>\n",
       "    <tr>\n",
       "      <th>...</th>\n",
       "      <td>...</td>\n",
       "      <td>...</td>\n",
       "      <td>...</td>\n",
       "      <td>...</td>\n",
       "      <td>...</td>\n",
       "    </tr>\n",
       "    <tr>\n",
       "      <th>94</th>\n",
       "      <td>중구</td>\n",
       "      <td>황학동</td>\n",
       "      <td>7</td>\n",
       "      <td>61651.688571</td>\n",
       "      <td>46507.368571</td>\n",
       "    </tr>\n",
       "    <tr>\n",
       "      <th>95</th>\n",
       "      <td>중구</td>\n",
       "      <td>황학동</td>\n",
       "      <td>8</td>\n",
       "      <td>59691.877143</td>\n",
       "      <td>39754.077143</td>\n",
       "    </tr>\n",
       "    <tr>\n",
       "      <th>96</th>\n",
       "      <td>중구</td>\n",
       "      <td>회현동</td>\n",
       "      <td>6</td>\n",
       "      <td>298196.142857</td>\n",
       "      <td>214527.222857</td>\n",
       "    </tr>\n",
       "    <tr>\n",
       "      <th>97</th>\n",
       "      <td>중구</td>\n",
       "      <td>회현동</td>\n",
       "      <td>7</td>\n",
       "      <td>309076.871429</td>\n",
       "      <td>207760.317143</td>\n",
       "    </tr>\n",
       "    <tr>\n",
       "      <th>98</th>\n",
       "      <td>중구</td>\n",
       "      <td>회현동</td>\n",
       "      <td>8</td>\n",
       "      <td>312115.257143</td>\n",
       "      <td>163949.482857</td>\n",
       "    </tr>\n",
       "  </tbody>\n",
       "</table>\n",
       "<p>99 rows × 5 columns</p>\n",
       "</div>"
      ],
      "text/plain": [
       "   CTGG_NM HDNG_NM  week_num  sum_flow_2019  sum_flow_2020\n",
       "0      노원구    공릉1동         6  179784.165714  152344.520000\n",
       "1      노원구    공릉1동         7  186025.681429  150330.804286\n",
       "2      노원구    공릉1동         8  182620.527143  133488.055714\n",
       "3      노원구    공릉2동         6  179784.255714  144128.342857\n",
       "4      노원구    공릉2동         7  186380.051429  138100.390000\n",
       "..     ...     ...       ...            ...            ...\n",
       "94      중구     황학동         7   61651.688571   46507.368571\n",
       "95      중구     황학동         8   59691.877143   39754.077143\n",
       "96      중구     회현동         6  298196.142857  214527.222857\n",
       "97      중구     회현동         7  309076.871429  207760.317143\n",
       "98      중구     회현동         8  312115.257143  163949.482857\n",
       "\n",
       "[99 rows x 5 columns]"
      ]
     },
     "execution_count": 31,
     "metadata": {},
     "output_type": "execute_result"
    }
   ],
   "source": [
    "sk_seoul_dong_sep = sk_seoul_2019_sep.pivot_table(index=['CTGG_NM','HDNG_NM', 'week_num'], values='sum_flow', aggfunc='mean')\n",
    "sk_seoul_dong_sep.columns = ['sum_flow_2019']\n",
    "\n",
    "sk_seoul_dong_sep['sum_flow_2020'] = sk_seoul_2020_sep.pivot_table(index=['CTGG_NM','HDNG_NM', 'week_num'], values='sum_flow', aggfunc='mean')['sum_flow']\n",
    "\n",
    "sk_seoul_dong_sep.reset_index(inplace=True)\n",
    "\n",
    "sk_seoul_dong_sep"
   ]
  },
  {
   "cell_type": "code",
   "execution_count": 32,
   "metadata": {},
   "outputs": [],
   "source": [
    "sk_seoul_dong_gap = sk_seoul_dong_sep.pivot_table(index=['CTGG_NM', 'HDNG_NM'], values = ['sum_flow_2019', 'sum_flow_2020'], aggfunc='mean')"
   ]
  },
  {
   "cell_type": "code",
   "execution_count": 33,
   "metadata": {
    "scrolled": true
   },
   "outputs": [
    {
     "data": {
      "text/html": [
       "<div>\n",
       "<style scoped>\n",
       "    .dataframe tbody tr th:only-of-type {\n",
       "        vertical-align: middle;\n",
       "    }\n",
       "\n",
       "    .dataframe tbody tr th {\n",
       "        vertical-align: top;\n",
       "    }\n",
       "\n",
       "    .dataframe thead th {\n",
       "        text-align: right;\n",
       "    }\n",
       "</style>\n",
       "<table border=\"1\" class=\"dataframe\">\n",
       "  <thead>\n",
       "    <tr style=\"text-align: right;\">\n",
       "      <th></th>\n",
       "      <th></th>\n",
       "      <th>sum_flow_2019</th>\n",
       "      <th>sum_flow_2020</th>\n",
       "    </tr>\n",
       "    <tr>\n",
       "      <th>CTGG_NM</th>\n",
       "      <th>HDNG_NM</th>\n",
       "      <th></th>\n",
       "      <th></th>\n",
       "    </tr>\n",
       "  </thead>\n",
       "  <tbody>\n",
       "    <tr>\n",
       "      <th rowspan=\"19\" valign=\"top\">노원구</th>\n",
       "      <th>공릉1동</th>\n",
       "      <td>182810.124762</td>\n",
       "      <td>145387.793333</td>\n",
       "    </tr>\n",
       "    <tr>\n",
       "      <th>공릉2동</th>\n",
       "      <td>185402.480000</td>\n",
       "      <td>135997.191905</td>\n",
       "    </tr>\n",
       "    <tr>\n",
       "      <th>상계10동</th>\n",
       "      <td>45834.933810</td>\n",
       "      <td>31229.415238</td>\n",
       "    </tr>\n",
       "    <tr>\n",
       "      <th>상계1동</th>\n",
       "      <td>121682.144286</td>\n",
       "      <td>95958.085714</td>\n",
       "    </tr>\n",
       "    <tr>\n",
       "      <th>상계2동</th>\n",
       "      <td>92451.611429</td>\n",
       "      <td>78200.755714</td>\n",
       "    </tr>\n",
       "    <tr>\n",
       "      <th>상계3.4동</th>\n",
       "      <td>56991.224762</td>\n",
       "      <td>56901.739524</td>\n",
       "    </tr>\n",
       "    <tr>\n",
       "      <th>상계5동</th>\n",
       "      <td>36772.927619</td>\n",
       "      <td>36670.709524</td>\n",
       "    </tr>\n",
       "    <tr>\n",
       "      <th>상계6.7동</th>\n",
       "      <td>193706.615238</td>\n",
       "      <td>161173.056667</td>\n",
       "    </tr>\n",
       "    <tr>\n",
       "      <th>상계8동</th>\n",
       "      <td>57987.020476</td>\n",
       "      <td>60967.498571</td>\n",
       "    </tr>\n",
       "    <tr>\n",
       "      <th>상계9동</th>\n",
       "      <td>32552.804286</td>\n",
       "      <td>24799.473810</td>\n",
       "    </tr>\n",
       "    <tr>\n",
       "      <th>월계1동</th>\n",
       "      <td>81263.702381</td>\n",
       "      <td>58264.854286</td>\n",
       "    </tr>\n",
       "    <tr>\n",
       "      <th>월계2동</th>\n",
       "      <td>46319.084762</td>\n",
       "      <td>40727.066190</td>\n",
       "    </tr>\n",
       "    <tr>\n",
       "      <th>월계3동</th>\n",
       "      <td>106550.123333</td>\n",
       "      <td>88937.860000</td>\n",
       "    </tr>\n",
       "    <tr>\n",
       "      <th>중계1동</th>\n",
       "      <td>47172.517619</td>\n",
       "      <td>33068.091429</td>\n",
       "    </tr>\n",
       "    <tr>\n",
       "      <th>중계2.3동</th>\n",
       "      <td>95169.515238</td>\n",
       "      <td>66225.518095</td>\n",
       "    </tr>\n",
       "    <tr>\n",
       "      <th>중계4동</th>\n",
       "      <td>44514.861905</td>\n",
       "      <td>33794.518571</td>\n",
       "    </tr>\n",
       "    <tr>\n",
       "      <th>중계본동</th>\n",
       "      <td>42765.945714</td>\n",
       "      <td>45007.916667</td>\n",
       "    </tr>\n",
       "    <tr>\n",
       "      <th>하계1동</th>\n",
       "      <td>82880.441905</td>\n",
       "      <td>56961.506190</td>\n",
       "    </tr>\n",
       "    <tr>\n",
       "      <th>하계2동</th>\n",
       "      <td>76911.077619</td>\n",
       "      <td>55990.077619</td>\n",
       "    </tr>\n",
       "    <tr>\n",
       "      <th rowspan=\"14\" valign=\"top\">중구</th>\n",
       "      <th>광희동</th>\n",
       "      <td>248183.823810</td>\n",
       "      <td>171288.037143</td>\n",
       "    </tr>\n",
       "    <tr>\n",
       "      <th>다산동</th>\n",
       "      <td>59170.331905</td>\n",
       "      <td>64105.176667</td>\n",
       "    </tr>\n",
       "    <tr>\n",
       "      <th>동화동</th>\n",
       "      <td>20345.310000</td>\n",
       "      <td>27025.931905</td>\n",
       "    </tr>\n",
       "    <tr>\n",
       "      <th>명동</th>\n",
       "      <td>363992.142857</td>\n",
       "      <td>205717.500476</td>\n",
       "    </tr>\n",
       "    <tr>\n",
       "      <th>소공동</th>\n",
       "      <td>233756.829524</td>\n",
       "      <td>163068.117143</td>\n",
       "    </tr>\n",
       "    <tr>\n",
       "      <th>신당동</th>\n",
       "      <td>106284.649524</td>\n",
       "      <td>92490.442857</td>\n",
       "    </tr>\n",
       "    <tr>\n",
       "      <th>약수동</th>\n",
       "      <td>77327.932381</td>\n",
       "      <td>73475.292381</td>\n",
       "    </tr>\n",
       "    <tr>\n",
       "      <th>을지로동</th>\n",
       "      <td>157774.176190</td>\n",
       "      <td>110530.464762</td>\n",
       "    </tr>\n",
       "    <tr>\n",
       "      <th>장충동</th>\n",
       "      <td>88238.750000</td>\n",
       "      <td>54182.652857</td>\n",
       "    </tr>\n",
       "    <tr>\n",
       "      <th>중림동</th>\n",
       "      <td>48277.195238</td>\n",
       "      <td>35006.270000</td>\n",
       "    </tr>\n",
       "    <tr>\n",
       "      <th>청구동</th>\n",
       "      <td>31817.622857</td>\n",
       "      <td>22033.178095</td>\n",
       "    </tr>\n",
       "    <tr>\n",
       "      <th>필동</th>\n",
       "      <td>136870.747143</td>\n",
       "      <td>99860.393333</td>\n",
       "    </tr>\n",
       "    <tr>\n",
       "      <th>황학동</th>\n",
       "      <td>60512.447143</td>\n",
       "      <td>44847.050952</td>\n",
       "    </tr>\n",
       "    <tr>\n",
       "      <th>회현동</th>\n",
       "      <td>306462.757143</td>\n",
       "      <td>195412.340952</td>\n",
       "    </tr>\n",
       "  </tbody>\n",
       "</table>\n",
       "</div>"
      ],
      "text/plain": [
       "                 sum_flow_2019  sum_flow_2020\n",
       "CTGG_NM HDNG_NM                              \n",
       "노원구     공릉1동     182810.124762  145387.793333\n",
       "        공릉2동     185402.480000  135997.191905\n",
       "        상계10동     45834.933810   31229.415238\n",
       "        상계1동     121682.144286   95958.085714\n",
       "        상계2동      92451.611429   78200.755714\n",
       "        상계3.4동    56991.224762   56901.739524\n",
       "        상계5동      36772.927619   36670.709524\n",
       "        상계6.7동   193706.615238  161173.056667\n",
       "        상계8동      57987.020476   60967.498571\n",
       "        상계9동      32552.804286   24799.473810\n",
       "        월계1동      81263.702381   58264.854286\n",
       "        월계2동      46319.084762   40727.066190\n",
       "        월계3동     106550.123333   88937.860000\n",
       "        중계1동      47172.517619   33068.091429\n",
       "        중계2.3동    95169.515238   66225.518095\n",
       "        중계4동      44514.861905   33794.518571\n",
       "        중계본동      42765.945714   45007.916667\n",
       "        하계1동      82880.441905   56961.506190\n",
       "        하계2동      76911.077619   55990.077619\n",
       "중구      광희동      248183.823810  171288.037143\n",
       "        다산동       59170.331905   64105.176667\n",
       "        동화동       20345.310000   27025.931905\n",
       "        명동       363992.142857  205717.500476\n",
       "        소공동      233756.829524  163068.117143\n",
       "        신당동      106284.649524   92490.442857\n",
       "        약수동       77327.932381   73475.292381\n",
       "        을지로동     157774.176190  110530.464762\n",
       "        장충동       88238.750000   54182.652857\n",
       "        중림동       48277.195238   35006.270000\n",
       "        청구동       31817.622857   22033.178095\n",
       "        필동       136870.747143   99860.393333\n",
       "        황학동       60512.447143   44847.050952\n",
       "        회현동      306462.757143  195412.340952"
      ]
     },
     "execution_count": 33,
     "metadata": {},
     "output_type": "execute_result"
    }
   ],
   "source": [
    "sk_seoul_dong_gap"
   ]
  },
  {
   "cell_type": "code",
   "execution_count": 34,
   "metadata": {
    "scrolled": true
   },
   "outputs": [
    {
     "data": {
      "text/html": [
       "<div>\n",
       "<style scoped>\n",
       "    .dataframe tbody tr th:only-of-type {\n",
       "        vertical-align: middle;\n",
       "    }\n",
       "\n",
       "    .dataframe tbody tr th {\n",
       "        vertical-align: top;\n",
       "    }\n",
       "\n",
       "    .dataframe thead th {\n",
       "        text-align: right;\n",
       "    }\n",
       "</style>\n",
       "<table border=\"1\" class=\"dataframe\">\n",
       "  <thead>\n",
       "    <tr style=\"text-align: right;\">\n",
       "      <th></th>\n",
       "      <th></th>\n",
       "      <th>sum_flow_2019</th>\n",
       "      <th>sum_flow_2020</th>\n",
       "      <th>decrease_ratio</th>\n",
       "    </tr>\n",
       "    <tr>\n",
       "      <th>CTGG_NM</th>\n",
       "      <th>HDNG_NM</th>\n",
       "      <th></th>\n",
       "      <th></th>\n",
       "      <th></th>\n",
       "    </tr>\n",
       "  </thead>\n",
       "  <tbody>\n",
       "    <tr>\n",
       "      <th rowspan=\"19\" valign=\"top\">노원구</th>\n",
       "      <th>공릉1동</th>\n",
       "      <td>182810.124762</td>\n",
       "      <td>145387.793333</td>\n",
       "      <td>79.529399</td>\n",
       "    </tr>\n",
       "    <tr>\n",
       "      <th>공릉2동</th>\n",
       "      <td>185402.480000</td>\n",
       "      <td>135997.191905</td>\n",
       "      <td>73.352412</td>\n",
       "    </tr>\n",
       "    <tr>\n",
       "      <th>상계10동</th>\n",
       "      <td>45834.933810</td>\n",
       "      <td>31229.415238</td>\n",
       "      <td>68.134527</td>\n",
       "    </tr>\n",
       "    <tr>\n",
       "      <th>상계1동</th>\n",
       "      <td>121682.144286</td>\n",
       "      <td>95958.085714</td>\n",
       "      <td>78.859627</td>\n",
       "    </tr>\n",
       "    <tr>\n",
       "      <th>상계2동</th>\n",
       "      <td>92451.611429</td>\n",
       "      <td>78200.755714</td>\n",
       "      <td>84.585606</td>\n",
       "    </tr>\n",
       "    <tr>\n",
       "      <th>상계3.4동</th>\n",
       "      <td>56991.224762</td>\n",
       "      <td>56901.739524</td>\n",
       "      <td>99.842984</td>\n",
       "    </tr>\n",
       "    <tr>\n",
       "      <th>상계5동</th>\n",
       "      <td>36772.927619</td>\n",
       "      <td>36670.709524</td>\n",
       "      <td>99.722029</td>\n",
       "    </tr>\n",
       "    <tr>\n",
       "      <th>상계6.7동</th>\n",
       "      <td>193706.615238</td>\n",
       "      <td>161173.056667</td>\n",
       "      <td>83.204725</td>\n",
       "    </tr>\n",
       "    <tr>\n",
       "      <th>상계8동</th>\n",
       "      <td>57987.020476</td>\n",
       "      <td>60967.498571</td>\n",
       "      <td>105.139906</td>\n",
       "    </tr>\n",
       "    <tr>\n",
       "      <th>상계9동</th>\n",
       "      <td>32552.804286</td>\n",
       "      <td>24799.473810</td>\n",
       "      <td>76.182296</td>\n",
       "    </tr>\n",
       "    <tr>\n",
       "      <th>월계1동</th>\n",
       "      <td>81263.702381</td>\n",
       "      <td>58264.854286</td>\n",
       "      <td>71.698498</td>\n",
       "    </tr>\n",
       "    <tr>\n",
       "      <th>월계2동</th>\n",
       "      <td>46319.084762</td>\n",
       "      <td>40727.066190</td>\n",
       "      <td>87.927182</td>\n",
       "    </tr>\n",
       "    <tr>\n",
       "      <th>월계3동</th>\n",
       "      <td>106550.123333</td>\n",
       "      <td>88937.860000</td>\n",
       "      <td>83.470443</td>\n",
       "    </tr>\n",
       "    <tr>\n",
       "      <th>중계1동</th>\n",
       "      <td>47172.517619</td>\n",
       "      <td>33068.091429</td>\n",
       "      <td>70.100332</td>\n",
       "    </tr>\n",
       "    <tr>\n",
       "      <th>중계2.3동</th>\n",
       "      <td>95169.515238</td>\n",
       "      <td>66225.518095</td>\n",
       "      <td>69.586903</td>\n",
       "    </tr>\n",
       "    <tr>\n",
       "      <th>중계4동</th>\n",
       "      <td>44514.861905</td>\n",
       "      <td>33794.518571</td>\n",
       "      <td>75.917384</td>\n",
       "    </tr>\n",
       "    <tr>\n",
       "      <th>중계본동</th>\n",
       "      <td>42765.945714</td>\n",
       "      <td>45007.916667</td>\n",
       "      <td>105.242421</td>\n",
       "    </tr>\n",
       "    <tr>\n",
       "      <th>하계1동</th>\n",
       "      <td>82880.441905</td>\n",
       "      <td>56961.506190</td>\n",
       "      <td>68.727320</td>\n",
       "    </tr>\n",
       "    <tr>\n",
       "      <th>하계2동</th>\n",
       "      <td>76911.077619</td>\n",
       "      <td>55990.077619</td>\n",
       "      <td>72.798457</td>\n",
       "    </tr>\n",
       "    <tr>\n",
       "      <th rowspan=\"14\" valign=\"top\">중구</th>\n",
       "      <th>광희동</th>\n",
       "      <td>248183.823810</td>\n",
       "      <td>171288.037143</td>\n",
       "      <td>69.016600</td>\n",
       "    </tr>\n",
       "    <tr>\n",
       "      <th>다산동</th>\n",
       "      <td>59170.331905</td>\n",
       "      <td>64105.176667</td>\n",
       "      <td>108.340066</td>\n",
       "    </tr>\n",
       "    <tr>\n",
       "      <th>동화동</th>\n",
       "      <td>20345.310000</td>\n",
       "      <td>27025.931905</td>\n",
       "      <td>132.836177</td>\n",
       "    </tr>\n",
       "    <tr>\n",
       "      <th>명동</th>\n",
       "      <td>363992.142857</td>\n",
       "      <td>205717.500476</td>\n",
       "      <td>56.517017</td>\n",
       "    </tr>\n",
       "    <tr>\n",
       "      <th>소공동</th>\n",
       "      <td>233756.829524</td>\n",
       "      <td>163068.117143</td>\n",
       "      <td>69.759723</td>\n",
       "    </tr>\n",
       "    <tr>\n",
       "      <th>신당동</th>\n",
       "      <td>106284.649524</td>\n",
       "      <td>92490.442857</td>\n",
       "      <td>87.021450</td>\n",
       "    </tr>\n",
       "    <tr>\n",
       "      <th>약수동</th>\n",
       "      <td>77327.932381</td>\n",
       "      <td>73475.292381</td>\n",
       "      <td>95.017790</td>\n",
       "    </tr>\n",
       "    <tr>\n",
       "      <th>을지로동</th>\n",
       "      <td>157774.176190</td>\n",
       "      <td>110530.464762</td>\n",
       "      <td>70.056119</td>\n",
       "    </tr>\n",
       "    <tr>\n",
       "      <th>장충동</th>\n",
       "      <td>88238.750000</td>\n",
       "      <td>54182.652857</td>\n",
       "      <td>61.404602</td>\n",
       "    </tr>\n",
       "    <tr>\n",
       "      <th>중림동</th>\n",
       "      <td>48277.195238</td>\n",
       "      <td>35006.270000</td>\n",
       "      <td>72.510985</td>\n",
       "    </tr>\n",
       "    <tr>\n",
       "      <th>청구동</th>\n",
       "      <td>31817.622857</td>\n",
       "      <td>22033.178095</td>\n",
       "      <td>69.248348</td>\n",
       "    </tr>\n",
       "    <tr>\n",
       "      <th>필동</th>\n",
       "      <td>136870.747143</td>\n",
       "      <td>99860.393333</td>\n",
       "      <td>72.959632</td>\n",
       "    </tr>\n",
       "    <tr>\n",
       "      <th>황학동</th>\n",
       "      <td>60512.447143</td>\n",
       "      <td>44847.050952</td>\n",
       "      <td>74.112109</td>\n",
       "    </tr>\n",
       "    <tr>\n",
       "      <th>회현동</th>\n",
       "      <td>306462.757143</td>\n",
       "      <td>195412.340952</td>\n",
       "      <td>63.763814</td>\n",
       "    </tr>\n",
       "  </tbody>\n",
       "</table>\n",
       "</div>"
      ],
      "text/plain": [
       "                 sum_flow_2019  sum_flow_2020  decrease_ratio\n",
       "CTGG_NM HDNG_NM                                              \n",
       "노원구     공릉1동     182810.124762  145387.793333       79.529399\n",
       "        공릉2동     185402.480000  135997.191905       73.352412\n",
       "        상계10동     45834.933810   31229.415238       68.134527\n",
       "        상계1동     121682.144286   95958.085714       78.859627\n",
       "        상계2동      92451.611429   78200.755714       84.585606\n",
       "        상계3.4동    56991.224762   56901.739524       99.842984\n",
       "        상계5동      36772.927619   36670.709524       99.722029\n",
       "        상계6.7동   193706.615238  161173.056667       83.204725\n",
       "        상계8동      57987.020476   60967.498571      105.139906\n",
       "        상계9동      32552.804286   24799.473810       76.182296\n",
       "        월계1동      81263.702381   58264.854286       71.698498\n",
       "        월계2동      46319.084762   40727.066190       87.927182\n",
       "        월계3동     106550.123333   88937.860000       83.470443\n",
       "        중계1동      47172.517619   33068.091429       70.100332\n",
       "        중계2.3동    95169.515238   66225.518095       69.586903\n",
       "        중계4동      44514.861905   33794.518571       75.917384\n",
       "        중계본동      42765.945714   45007.916667      105.242421\n",
       "        하계1동      82880.441905   56961.506190       68.727320\n",
       "        하계2동      76911.077619   55990.077619       72.798457\n",
       "중구      광희동      248183.823810  171288.037143       69.016600\n",
       "        다산동       59170.331905   64105.176667      108.340066\n",
       "        동화동       20345.310000   27025.931905      132.836177\n",
       "        명동       363992.142857  205717.500476       56.517017\n",
       "        소공동      233756.829524  163068.117143       69.759723\n",
       "        신당동      106284.649524   92490.442857       87.021450\n",
       "        약수동       77327.932381   73475.292381       95.017790\n",
       "        을지로동     157774.176190  110530.464762       70.056119\n",
       "        장충동       88238.750000   54182.652857       61.404602\n",
       "        중림동       48277.195238   35006.270000       72.510985\n",
       "        청구동       31817.622857   22033.178095       69.248348\n",
       "        필동       136870.747143   99860.393333       72.959632\n",
       "        황학동       60512.447143   44847.050952       74.112109\n",
       "        회현동      306462.757143  195412.340952       63.763814"
      ]
     },
     "execution_count": 34,
     "metadata": {},
     "output_type": "execute_result"
    }
   ],
   "source": [
    "sk_seoul_dong_gap['decrease_ratio'] = (sk_seoul_dong_gap['sum_flow_2020'] * 100) / sk_seoul_dong_gap['sum_flow_2019']\n",
    "sk_seoul_dong_gap"
   ]
  },
  {
   "cell_type": "markdown",
   "metadata": {},
   "source": [
    "# 노원구부터 시각화"
   ]
  },
  {
   "cell_type": "markdown",
   "metadata": {},
   "source": [
    "### 시각화 함수"
   ]
  },
  {
   "cell_type": "code",
   "execution_count": 45,
   "metadata": {},
   "outputs": [],
   "source": [
    "def plot_region_dong_sensitivity(df, x_axis, gu_name, rot_x = True, show_xlabel = True):\n",
    "    plt.figure(figsize=(18, 6))\n",
    "    \n",
    "    pal = sns.color_palette(\"Blues_r\", df.shape[0])\n",
    "    \n",
    "    top_down_index = df['decrease_ratio'].sort_values(ascending=False).index\n",
    "    plot_order = df.iloc[top_down_index]['HDNG_NM'].values\n",
    "    sns.barplot(x = x_axis, y='decrease_ratio', data=df, order=plot_order)\n",
    "    plt.axhline(sk_seoul_gu_gap.loc[gu_name, 'decrease_ratio'])\n",
    "    df = df.sort_values(by=\"decrease_ratio\", ascending=False)\n",
    "    df['decrease_ratio'] = np.round(df['decrease_ratio'],2)\n",
    "    for idx, score in enumerate(df['decrease_ratio']):\n",
    "        plt.text(idx-0.4, score+0.01, score, size=13, weight='bold')"
   ]
  },
  {
   "cell_type": "code",
   "execution_count": 46,
   "metadata": {},
   "outputs": [
    {
     "data": {
      "image/png": "[encoded data removed]",
      "text/plain": [
       "<Figure size 1296x432 with 1 Axes>"
      ]
     },
     "metadata": {
      "needs_background": "light"
     },
     "output_type": "display_data"
    }
   ],
   "source": [
    "plot_region_dong_sensitivity(sk_seoul_dong_gap.xs(\"노원구\").reset_index(), 'HDNG_NM', '노원구')"
   ]
  },
  {
   "cell_type": "markdown",
   "metadata": {},
   "source": [
    "# 중구"
   ]
  },
  {
   "cell_type": "code",
   "execution_count": 47,
   "metadata": {},
   "outputs": [
    {
     "data": {
      "image/png": "[encoded data removed]",
      "text/plain": [
       "<Figure size 1296x432 with 1 Axes>"
      ]
     },
     "metadata": {
      "needs_background": "light"
     },
     "output_type": "display_data"
    }
   ],
   "source": [
    "plot_region_dong_sensitivity(sk_seoul_dong_gap.xs(\"중구\").reset_index(), 'HDNG_NM', '중구')"
   ]
  },
  {
   "cell_type": "markdown",
   "metadata": {},
   "source": [
    "# 물류데이터도 마찬가지 반복"
   ]
  },
  {
   "cell_type": "code",
   "execution_count": 64,
   "metadata": {},
   "outputs": [],
   "source": [
    "# 일 ~ 토를 한 주 기준으로 보고 총 주차 데이터가 부족한 2019년 4주, 2020년 4주, 22주는 분석에서 제외\n",
    "# 2019년 4주 인덱스 추출\n",
    "week_index_201904 = cj[(cj['year'] == 2019) & (cj['week_num'] == 4)].index.tolist()\n",
    "# 2020년 4주 인덱스 추출\n",
    "week_index_202004 = cj[(cj['year'] == 2020) & (cj['week_num'] == 4)].index.tolist()\n",
    "# 2020년 22주 인덱스 추출\n",
    "week_index_202022 = cj[(cj['year'] == 2020) & (cj['week_num'] == 22)].index.tolist()\n",
    "\n",
    "remove_index = week_index_201904 + week_index_202004 + week_index_202022\n",
    "\n",
    "# 전체 데이터에서 제거\n",
    "cj = cj.drop(remove_index,axis=0).reset_index(drop=True)"
   ]
  },
  {
   "cell_type": "code",
   "execution_count": 74,
   "metadata": {},
   "outputs": [
    {
     "data": {
      "text/plain": [
       "(154460, 17)"
      ]
     },
     "execution_count": 74,
     "metadata": {},
     "output_type": "execute_result"
    }
   ],
   "source": [
    "cj.shape"
   ]
  },
  {
   "cell_type": "code",
   "execution_count": null,
   "metadata": {},
   "outputs": [],
   "source": [
    "INVC_CONT"
   ]
  },
  {
   "cell_type": "code",
   "execution_count": 69,
   "metadata": {},
   "outputs": [],
   "source": [
    "# 서울 / 대구 분리\n",
    "cj_seoul = cj[cj['CTPV_NM'] == '서울특별시']\n",
    "cj_daegu = cj[cj['CTPV_NM'] == '대구광역시']\n",
    "\n",
    "# 각 지역 2019, 2020년 분리\n",
    "cj_seoul_2019 = cj_seoul[cj_seoul['year'] == 2019]\n",
    "cj_seoul_2020 = cj_seoul[cj_seoul['year'] == 2020]\n",
    "cj_daegu_2019 = cj_daegu[cj_daegu['year'] == 2019]\n",
    "cj_daegu_2020 = cj_daegu[cj_daegu['year'] == 2020]\n",
    "\n",
    "# 기존 가설대로 6-8 주차의 유동인구 데이터 분석을 위해 테이블 분리\n",
    "cj_seoul_2019_sep = cj_seoul_2019[cj_seoul_2019['week_num'].isin(range(6,9))]\n",
    "cj_seoul_2020_sep = cj_seoul_2020[cj_seoul_2020['week_num'].isin(range(6,9))]\n",
    "cj_daegu_2019_sep = cj_daegu_2019[cj_daegu_2019['week_num'].isin(range(6,9))]\n",
    "cj_daegu_2020_sep = cj_daegu_2020[cj_daegu_2020['week_num'].isin(range(6,9))]"
   ]
  },
  {
   "cell_type": "code",
   "execution_count": 73,
   "metadata": {},
   "outputs": [
    {
     "data": {
      "text/plain": [
       "<matplotlib.legend.Legend at 0x1228e5ea310>"
      ]
     },
     "execution_count": 73,
     "metadata": {},
     "output_type": "execute_result"
    },
    {
     "data": {
      "image/png": "[encoded data removed]",
      "text/plain": [
       "<Figure size 432x288 with 1 Axes>"
      ]
     },
     "metadata": {
      "needs_background": "light"
     },
     "output_type": "display_data"
    }
   ],
   "source": [
    "cj_seoul_2019.groupby(\"week_num\")[\"INVC_CONT\"].mean().plot()\n",
    "cj_seoul_2020.groupby(\"week_num\")[\"INVC_CONT\"].mean().plot()\n",
    "plt.xticks(range(5,22))\n",
    "plt.axvline(x=6, color='red')\n",
    "plt.axvline(x=8, color='red')\n",
    "plt.legend()"
   ]
  },
  {
   "cell_type": "markdown",
   "metadata": {},
   "source": [
    "주황이가 2020년 파랑이가 2019년\n",
    "마찬가지로 보면 2019년 6-8주차 사이에는 물류가 왜인지는 모르겠지만 급감하는 반면에 2020년 6-8주차에는 상승 -> 전반적인 기울기 반대"
   ]
  },
  {
   "cell_type": "code",
   "execution_count": 76,
   "metadata": {
    "scrolled": true
   },
   "outputs": [
    {
     "data": {
      "text/plain": [
       "<matplotlib.legend.Legend at 0x1228ea3c430>"
      ]
     },
     "execution_count": 76,
     "metadata": {},
     "output_type": "execute_result"
    },
    {
     "data": {
      "image/png": "[encoded data removed]",
      "text/plain": [
       "<Figure size 432x288 with 1 Axes>"
      ]
     },
     "metadata": {
      "needs_background": "light"
     },
     "output_type": "display_data"
    }
   ],
   "source": [
    "cj_daegu_2019.groupby(\"week_num\")[\"INVC_CONT\"].mean().plot()\n",
    "cj_daegu_2020.groupby(\"week_num\")[\"INVC_CONT\"].mean().plot()\n",
    "plt.xticks(range(5,22))\n",
    "plt.axvline(x=6, color='red')\n",
    "plt.axvline(x=8, color='red')\n",
    "plt.legend()"
   ]
  },
  {
   "cell_type": "markdown",
   "metadata": {},
   "source": [
    "주황이가 2020년 파랑이가 2019년 대구에서 더 극명한 차이를 보여줌"
   ]
  },
  {
   "cell_type": "code",
   "execution_count": 77,
   "metadata": {},
   "outputs": [
    {
     "data": {
      "text/plain": [
       "127.22036094010637"
      ]
     },
     "execution_count": 77,
     "metadata": {},
     "output_type": "execute_result"
    }
   ],
   "source": [
    "# 서울의 6-8주차 물류 변화지수\n",
    "(cj_seoul_2020_sep['INVC_CONT'].mean() * 100) / cj_seoul_2019_sep['INVC_CONT'].mean()"
   ]
  },
  {
   "cell_type": "code",
   "execution_count": 79,
   "metadata": {},
   "outputs": [
    {
     "data": {
      "text/plain": [
       "142.99058013783994"
      ]
     },
     "execution_count": 79,
     "metadata": {},
     "output_type": "execute_result"
    }
   ],
   "source": [
    "# 대구의 6-8주차 물류 변화지수\n",
    "(cj_daegu_2020_sep['INVC_CONT'].mean() * 100) / cj_daegu_2019_sep['INVC_CONT'].mean()"
   ]
  },
  {
   "cell_type": "markdown",
   "metadata": {},
   "source": [
    "확실히 대구가 서울에 비해 확 치고 오른듯한 모습\n",
    "\n",
    "둘이 합쳐보기"
   ]
  },
  {
   "cell_type": "code",
   "execution_count": 80,
   "metadata": {},
   "outputs": [],
   "source": [
    "# 19년 20년 퉁치기\n",
    "cj_2019 = cj[cj['year'] == 2019]\n",
    "cj_2020 = cj[cj['year'] == 2020]\n",
    "\n",
    "cj_2019_sep = cj_2019[cj_2019['INVC_CONT'].isin(range(6, 9))]\n",
    "cj_2020_sep = cj_2020[cj_2020['INVC_CONT'].isin(range(6, 9))]"
   ]
  },
  {
   "cell_type": "code",
   "execution_count": 82,
   "metadata": {},
   "outputs": [
    {
     "data": {
      "text/plain": [
       "100.4120618855597"
      ]
     },
     "execution_count": 82,
     "metadata": {},
     "output_type": "execute_result"
    }
   ],
   "source": [
    "(cj_2020_sep['INVC_CONT'].mean() * 100) / cj_2019_sep['INVC_CONT'].mean()"
   ]
  },
  {
   "cell_type": "markdown",
   "metadata": {},
   "source": [
    "!!? 뭐여.."
   ]
  },
  {
   "cell_type": "markdown",
   "metadata": {},
   "source": [
    "### -> 이로 미루어보아 6-8주차의 서울 / 대구의 물류지수의 변동 폭은 다르다\n",
    "#### (통계적으로 검증해보기)"
   ]
  },
  {
   "cell_type": "markdown",
   "metadata": {},
   "source": [
    "# 구별로 한번 보자"
   ]
  },
  {
   "cell_type": "code",
   "execution_count": 83,
   "metadata": {},
   "outputs": [],
   "source": [
    "from matplotlib import font_manager, rc\n",
    "import platform \n",
    "\n",
    "# 한글 폰트 사용\n",
    "if platform.system() == 'Windows': \n",
    "    path = 'c:/Windows/Fonts/malgun.ttf'\n",
    "    font_name = font_manager.FontProperties(fname=path).get_name()\n",
    "    rc('font', family=font_name)\n",
    "elif platform.system() == 'Darwin':\n",
    "    rc('font', family='AppleGothic')"
   ]
  },
  {
   "cell_type": "code",
   "execution_count": 84,
   "metadata": {},
   "outputs": [],
   "source": [
    "cj_seoul_gu_sep = cj_seoul_2019_sep.pivot_table(index=['CTGG_NM', 'week_num'], values='INVC_CONT', aggfunc='mean')\n",
    "\n",
    "cj_seoul_gu_sep.columns =['INVC_CONT_2019']\n",
    "cj_seoul_gu_sep['INVC_CONT_2020'] = cj_seoul_2020_sep.pivot_table(index=['CTGG_NM', 'week_num'], values='INVC_CONT', aggfunc='mean')['INVC_CONT']\n",
    "\n",
    "cj_seoul_gu_sep.reset_index(inplace= True)"
   ]
  },
  {
   "cell_type": "code",
   "execution_count": 85,
   "metadata": {},
   "outputs": [
    {
     "data": {
      "text/plain": [
       "([<matplotlib.axis.XTick at 0x1228ea76340>,\n",
       "  <matplotlib.axis.XTick at 0x1228ea76310>,\n",
       "  <matplotlib.axis.XTick at 0x1228ea65fa0>],\n",
       " <a list of 3 Text major ticklabel objects>)"
      ]
     },
     "execution_count": 85,
     "metadata": {},
     "output_type": "execute_result"
    },
    {
     "data": {
      "image/png": "[encoded data removed]",
      "text/plain": [
       "<Figure size 432x288 with 1 Axes>"
      ]
     },
     "metadata": {
      "needs_background": "light"
     },
     "output_type": "display_data"
    }
   ],
   "source": [
    "sns.lineplot(x='week_num', y = 'INVC_CONT_2019',hue='CTGG_NM', data = cj_seoul_gu_sep)\n",
    "plt.xticks(range(6,9))\n"
   ]
  },
  {
   "cell_type": "markdown",
   "metadata": {},
   "source": [
    "..? 2019년도에는 감소하는 모습"
   ]
  },
  {
   "cell_type": "code",
   "execution_count": 86,
   "metadata": {},
   "outputs": [
    {
     "data": {
      "text/plain": [
       "([<matplotlib.axis.XTick at 0x1228eac3100>,\n",
       "  <matplotlib.axis.XTick at 0x1228eac3250>,\n",
       "  <matplotlib.axis.XTick at 0x1228ea0b100>],\n",
       " <a list of 3 Text major ticklabel objects>)"
      ]
     },
     "execution_count": 86,
     "metadata": {},
     "output_type": "execute_result"
    },
    {
     "data": {
      "image/png": "[encoded data removed]",
      "text/plain": [
       "<Figure size 432x288 with 1 Axes>"
      ]
     },
     "metadata": {
      "needs_background": "light"
     },
     "output_type": "display_data"
    }
   ],
   "source": [
    "sns.lineplot(x='week_num', y = 'INVC_CONT_2020',hue='CTGG_NM', data = cj_seoul_gu_sep)\n",
    "plt.xticks(range(6,9))\n"
   ]
  },
  {
   "cell_type": "markdown",
   "metadata": {},
   "source": [
    "2020년도에는 반대로 증가"
   ]
  },
  {
   "cell_type": "code",
   "execution_count": 87,
   "metadata": {},
   "outputs": [
    {
     "data": {
      "text/plain": [
       "([<matplotlib.axis.XTick at 0x1228eaf3fa0>,\n",
       "  <matplotlib.axis.XTick at 0x1228eaf3f10>,\n",
       "  <matplotlib.axis.XTick at 0x1228eb34490>],\n",
       " <a list of 3 Text major ticklabel objects>)"
      ]
     },
     "execution_count": 87,
     "metadata": {},
     "output_type": "execute_result"
    },
    {
     "data": {
      "image/png": "[encoded data removed]",
      "text/plain": [
       "<Figure size 432x288 with 1 Axes>"
      ]
     },
     "metadata": {
      "needs_background": "light"
     },
     "output_type": "display_data"
    }
   ],
   "source": [
    "sns.lineplot(x='week_num', y = 'INVC_CONT_2020',hue='CTGG_NM', data = cj_seoul_gu_sep)\n",
    "sns.lineplot(x='week_num', y = 'INVC_CONT_2019',hue='CTGG_NM', data = cj_seoul_gu_sep)\n",
    "plt.xticks(range(6,9))"
   ]
  },
  {
   "cell_type": "markdown",
   "metadata": {},
   "source": [
    "둘다 2020년에 증가하는 모습을 보임"
   ]
  },
  {
   "cell_type": "code",
   "execution_count": 88,
   "metadata": {},
   "outputs": [
    {
     "data": {
      "text/html": [
       "<div>\n",
       "<style scoped>\n",
       "    .dataframe tbody tr th:only-of-type {\n",
       "        vertical-align: middle;\n",
       "    }\n",
       "\n",
       "    .dataframe tbody tr th {\n",
       "        vertical-align: top;\n",
       "    }\n",
       "\n",
       "    .dataframe thead th {\n",
       "        text-align: right;\n",
       "    }\n",
       "</style>\n",
       "<table border=\"1\" class=\"dataframe\">\n",
       "  <thead>\n",
       "    <tr style=\"text-align: right;\">\n",
       "      <th></th>\n",
       "      <th>INVC_CONT_2019</th>\n",
       "      <th>INVC_CONT_2020</th>\n",
       "      <th>decrease_ratio</th>\n",
       "    </tr>\n",
       "    <tr>\n",
       "      <th>CTGG_NM</th>\n",
       "      <th></th>\n",
       "      <th></th>\n",
       "      <th></th>\n",
       "    </tr>\n",
       "  </thead>\n",
       "  <tbody>\n",
       "    <tr>\n",
       "      <th>노원구</th>\n",
       "      <td>130.462909</td>\n",
       "      <td>169.562397</td>\n",
       "      <td>129.969811</td>\n",
       "    </tr>\n",
       "    <tr>\n",
       "      <th>중구</th>\n",
       "      <td>93.547142</td>\n",
       "      <td>115.150102</td>\n",
       "      <td>123.093126</td>\n",
       "    </tr>\n",
       "  </tbody>\n",
       "</table>\n",
       "</div>"
      ],
      "text/plain": [
       "         INVC_CONT_2019  INVC_CONT_2020  decrease_ratio\n",
       "CTGG_NM                                                \n",
       "노원구          130.462909      169.562397      129.969811\n",
       "중구            93.547142      115.150102      123.093126"
      ]
     },
     "execution_count": 88,
     "metadata": {},
     "output_type": "execute_result"
    }
   ],
   "source": [
    "cj_seoul_gu_gap = cj_seoul_gu_sep.groupby(\"CTGG_NM\")[['INVC_CONT_2019', 'INVC_CONT_2020']].mean()\n",
    "cj_seoul_gu_gap['decrease_ratio'] = (cj_seoul_gu_gap['INVC_CONT_2020'] * 100) / cj_seoul_gu_gap['INVC_CONT_2019']\n",
    "cj_seoul_gu_gap"
   ]
  },
  {
   "cell_type": "markdown",
   "metadata": {},
   "source": [
    "#### 서울의 물류 변동지수가 127.22036094010637임을 감안할때\n",
    "#### 노원구가 훨씬 더 물류를 많이 시킴, 이에 반해 중구는 별로"
   ]
  },
  {
   "cell_type": "markdown",
   "metadata": {},
   "source": [
    "하지만 유동인구로 미루어 보았을때 중구는 유동인구가 엄청 줄었지만 물류도 별로 안시킴.\n",
    "\n",
    "노원구는 유동인구가 서울 평균대비 별로 안줄었는데 물류는 많이 시킴\n",
    "\n",
    "한번 생각해보기"
   ]
  },
  {
   "cell_type": "markdown",
   "metadata": {},
   "source": [
    "# 이제 행정동별로 봐보자잉"
   ]
  },
  {
   "cell_type": "code",
   "execution_count": 93,
   "metadata": {
    "scrolled": true
   },
   "outputs": [
    {
     "data": {
      "text/html": [
       "<div>\n",
       "<style scoped>\n",
       "    .dataframe tbody tr th:only-of-type {\n",
       "        vertical-align: middle;\n",
       "    }\n",
       "\n",
       "    .dataframe tbody tr th {\n",
       "        vertical-align: top;\n",
       "    }\n",
       "\n",
       "    .dataframe thead th {\n",
       "        text-align: right;\n",
       "    }\n",
       "</style>\n",
       "<table border=\"1\" class=\"dataframe\">\n",
       "  <thead>\n",
       "    <tr style=\"text-align: right;\">\n",
       "      <th></th>\n",
       "      <th></th>\n",
       "      <th>INVC_CONT_2019</th>\n",
       "      <th>INVC_CONT_2020</th>\n",
       "      <th>decrease_ratio</th>\n",
       "    </tr>\n",
       "    <tr>\n",
       "      <th>CTGG_NM</th>\n",
       "      <th>HDNG_NM</th>\n",
       "      <th></th>\n",
       "      <th></th>\n",
       "      <th></th>\n",
       "    </tr>\n",
       "  </thead>\n",
       "  <tbody>\n",
       "    <tr>\n",
       "      <th rowspan=\"19\" valign=\"top\">노원구</th>\n",
       "      <th>공릉1동</th>\n",
       "      <td>196.553059</td>\n",
       "      <td>244.582698</td>\n",
       "      <td>124.435967</td>\n",
       "    </tr>\n",
       "    <tr>\n",
       "      <th>공릉2동</th>\n",
       "      <td>214.570048</td>\n",
       "      <td>272.951265</td>\n",
       "      <td>127.208465</td>\n",
       "    </tr>\n",
       "    <tr>\n",
       "      <th>상계10동</th>\n",
       "      <td>64.062512</td>\n",
       "      <td>95.677659</td>\n",
       "      <td>149.350464</td>\n",
       "    </tr>\n",
       "    <tr>\n",
       "      <th>상계1동</th>\n",
       "      <td>178.269431</td>\n",
       "      <td>233.716943</td>\n",
       "      <td>131.103208</td>\n",
       "    </tr>\n",
       "    <tr>\n",
       "      <th>상계2동</th>\n",
       "      <td>127.784314</td>\n",
       "      <td>143.350760</td>\n",
       "      <td>112.181813</td>\n",
       "    </tr>\n",
       "    <tr>\n",
       "      <th>상계3.4동</th>\n",
       "      <td>91.763071</td>\n",
       "      <td>124.335601</td>\n",
       "      <td>135.496339</td>\n",
       "    </tr>\n",
       "    <tr>\n",
       "      <th>상계5동</th>\n",
       "      <td>101.202345</td>\n",
       "      <td>127.498902</td>\n",
       "      <td>125.984138</td>\n",
       "    </tr>\n",
       "    <tr>\n",
       "      <th>상계6.7동</th>\n",
       "      <td>188.252073</td>\n",
       "      <td>236.457752</td>\n",
       "      <td>125.606984</td>\n",
       "    </tr>\n",
       "    <tr>\n",
       "      <th>상계8동</th>\n",
       "      <td>116.404342</td>\n",
       "      <td>157.057654</td>\n",
       "      <td>134.924223</td>\n",
       "    </tr>\n",
       "    <tr>\n",
       "      <th>상계9동</th>\n",
       "      <td>114.030873</td>\n",
       "      <td>178.911765</td>\n",
       "      <td>156.897654</td>\n",
       "    </tr>\n",
       "    <tr>\n",
       "      <th>월계1동</th>\n",
       "      <td>109.599356</td>\n",
       "      <td>140.985796</td>\n",
       "      <td>128.637431</td>\n",
       "    </tr>\n",
       "    <tr>\n",
       "      <th>월계2동</th>\n",
       "      <td>106.697606</td>\n",
       "      <td>133.878248</td>\n",
       "      <td>125.474463</td>\n",
       "    </tr>\n",
       "    <tr>\n",
       "      <th>월계3동</th>\n",
       "      <td>141.455938</td>\n",
       "      <td>178.132779</td>\n",
       "      <td>125.928103</td>\n",
       "    </tr>\n",
       "    <tr>\n",
       "      <th>중계1동</th>\n",
       "      <td>124.116469</td>\n",
       "      <td>177.600713</td>\n",
       "      <td>143.091980</td>\n",
       "    </tr>\n",
       "    <tr>\n",
       "      <th>중계2.3동</th>\n",
       "      <td>158.683382</td>\n",
       "      <td>199.076262</td>\n",
       "      <td>125.455016</td>\n",
       "    </tr>\n",
       "    <tr>\n",
       "      <th>중계4동</th>\n",
       "      <td>90.296791</td>\n",
       "      <td>116.709529</td>\n",
       "      <td>129.251026</td>\n",
       "    </tr>\n",
       "    <tr>\n",
       "      <th>중계본동</th>\n",
       "      <td>116.496382</td>\n",
       "      <td>153.841206</td>\n",
       "      <td>132.056639</td>\n",
       "    </tr>\n",
       "    <tr>\n",
       "      <th>하계1동</th>\n",
       "      <td>130.705882</td>\n",
       "      <td>169.722901</td>\n",
       "      <td>129.851004</td>\n",
       "    </tr>\n",
       "    <tr>\n",
       "      <th>하계2동</th>\n",
       "      <td>103.450980</td>\n",
       "      <td>133.022657</td>\n",
       "      <td>128.585207</td>\n",
       "    </tr>\n",
       "    <tr>\n",
       "      <th rowspan=\"15\" valign=\"top\">중구</th>\n",
       "      <th>광희동</th>\n",
       "      <td>136.165441</td>\n",
       "      <td>158.527686</td>\n",
       "      <td>116.422849</td>\n",
       "    </tr>\n",
       "    <tr>\n",
       "      <th>다산동</th>\n",
       "      <td>87.529341</td>\n",
       "      <td>112.367536</td>\n",
       "      <td>128.376993</td>\n",
       "    </tr>\n",
       "    <tr>\n",
       "      <th>동화동</th>\n",
       "      <td>65.694298</td>\n",
       "      <td>69.330738</td>\n",
       "      <td>105.535397</td>\n",
       "    </tr>\n",
       "    <tr>\n",
       "      <th>명동</th>\n",
       "      <td>153.429293</td>\n",
       "      <td>170.086537</td>\n",
       "      <td>110.856626</td>\n",
       "    </tr>\n",
       "    <tr>\n",
       "      <th>소공동</th>\n",
       "      <td>120.598079</td>\n",
       "      <td>145.667388</td>\n",
       "      <td>120.787486</td>\n",
       "    </tr>\n",
       "    <tr>\n",
       "      <th>신당동</th>\n",
       "      <td>134.170366</td>\n",
       "      <td>184.923690</td>\n",
       "      <td>137.827521</td>\n",
       "    </tr>\n",
       "    <tr>\n",
       "      <th>신당제5동</th>\n",
       "      <td>64.609108</td>\n",
       "      <td>91.148693</td>\n",
       "      <td>141.077156</td>\n",
       "    </tr>\n",
       "    <tr>\n",
       "      <th>약수동</th>\n",
       "      <td>91.376592</td>\n",
       "      <td>114.573077</td>\n",
       "      <td>125.385587</td>\n",
       "    </tr>\n",
       "    <tr>\n",
       "      <th>을지로동</th>\n",
       "      <td>66.427554</td>\n",
       "      <td>75.349124</td>\n",
       "      <td>113.430525</td>\n",
       "    </tr>\n",
       "    <tr>\n",
       "      <th>장충동</th>\n",
       "      <td>47.495898</td>\n",
       "      <td>57.559098</td>\n",
       "      <td>121.187515</td>\n",
       "    </tr>\n",
       "    <tr>\n",
       "      <th>중림동</th>\n",
       "      <td>77.767354</td>\n",
       "      <td>105.337344</td>\n",
       "      <td>135.451881</td>\n",
       "    </tr>\n",
       "    <tr>\n",
       "      <th>청구동</th>\n",
       "      <td>74.740119</td>\n",
       "      <td>92.337551</td>\n",
       "      <td>123.544828</td>\n",
       "    </tr>\n",
       "    <tr>\n",
       "      <th>필동</th>\n",
       "      <td>60.506628</td>\n",
       "      <td>70.969094</td>\n",
       "      <td>117.291438</td>\n",
       "    </tr>\n",
       "    <tr>\n",
       "      <th>황학동</th>\n",
       "      <td>94.026322</td>\n",
       "      <td>143.779846</td>\n",
       "      <td>152.914463</td>\n",
       "    </tr>\n",
       "    <tr>\n",
       "      <th>회현동</th>\n",
       "      <td>125.173406</td>\n",
       "      <td>134.610477</td>\n",
       "      <td>107.539198</td>\n",
       "    </tr>\n",
       "  </tbody>\n",
       "</table>\n",
       "</div>"
      ],
      "text/plain": [
       "                 INVC_CONT_2019  INVC_CONT_2020  decrease_ratio\n",
       "CTGG_NM HDNG_NM                                                \n",
       "노원구     공릉1동         196.553059      244.582698      124.435967\n",
       "        공릉2동         214.570048      272.951265      127.208465\n",
       "        상계10동         64.062512       95.677659      149.350464\n",
       "        상계1동         178.269431      233.716943      131.103208\n",
       "        상계2동         127.784314      143.350760      112.181813\n",
       "        상계3.4동        91.763071      124.335601      135.496339\n",
       "        상계5동         101.202345      127.498902      125.984138\n",
       "        상계6.7동       188.252073      236.457752      125.606984\n",
       "        상계8동         116.404342      157.057654      134.924223\n",
       "        상계9동         114.030873      178.911765      156.897654\n",
       "        월계1동         109.599356      140.985796      128.637431\n",
       "        월계2동         106.697606      133.878248      125.474463\n",
       "        월계3동         141.455938      178.132779      125.928103\n",
       "        중계1동         124.116469      177.600713      143.091980\n",
       "        중계2.3동       158.683382      199.076262      125.455016\n",
       "        중계4동          90.296791      116.709529      129.251026\n",
       "        중계본동         116.496382      153.841206      132.056639\n",
       "        하계1동         130.705882      169.722901      129.851004\n",
       "        하계2동         103.450980      133.022657      128.585207\n",
       "중구      광희동          136.165441      158.527686      116.422849\n",
       "        다산동           87.529341      112.367536      128.376993\n",
       "        동화동           65.694298       69.330738      105.535397\n",
       "        명동           153.429293      170.086537      110.856626\n",
       "        소공동          120.598079      145.667388      120.787486\n",
       "        신당동          134.170366      184.923690      137.827521\n",
       "        신당제5동         64.609108       91.148693      141.077156\n",
       "        약수동           91.376592      114.573077      125.385587\n",
       "        을지로동          66.427554       75.349124      113.430525\n",
       "        장충동           47.495898       57.559098      121.187515\n",
       "        중림동           77.767354      105.337344      135.451881\n",
       "        청구동           74.740119       92.337551      123.544828\n",
       "        필동            60.506628       70.969094      117.291438\n",
       "        황학동           94.026322      143.779846      152.914463\n",
       "        회현동          125.173406      134.610477      107.539198"
      ]
     },
     "execution_count": 93,
     "metadata": {},
     "output_type": "execute_result"
    }
   ],
   "source": [
    "cj_seoul_dong_sep = cj_seoul_2019_sep.pivot_table(index=['CTGG_NM','HDNG_NM', 'week_num'], values='INVC_CONT', aggfunc='mean')\n",
    "cj_seoul_dong_sep.columns = ['INVC_CONT_2019']\n",
    "\n",
    "cj_seoul_dong_sep['INVC_CONT_2020'] = cj_seoul_2020_sep.pivot_table(index=['CTGG_NM','HDNG_NM', 'week_num'], values='INVC_CONT', aggfunc='mean')['INVC_CONT']\n",
    "\n",
    "cj_seoul_dong_sep.reset_index(inplace=True)\n",
    "\n",
    "cj_seoul_dong_gap = cj_seoul_dong_sep.pivot_table(index=['CTGG_NM', 'HDNG_NM'], values = ['INVC_CONT_2019', 'INVC_CONT_2020'], aggfunc='mean')\n",
    "\n",
    "cj_seoul_dong_gap['decrease_ratio'] = (cj_seoul_dong_gap['INVC_CONT_2020'] * 100) / cj_seoul_dong_gap['INVC_CONT_2019']\n",
    "cj_seoul_dong_gap"
   ]
  },
  {
   "cell_type": "markdown",
   "metadata": {},
   "source": [
    "# 노원구부터 시각화"
   ]
  },
  {
   "cell_type": "code",
   "execution_count": 96,
   "metadata": {},
   "outputs": [],
   "source": [
    "def plot_region_dong_sensitivity(df, x_axis, gu_name, rot_x = True, show_xlabel = True):\n",
    "    plt.figure(figsize=(18, 6))\n",
    "    \n",
    "    pal = sns.color_palette(\"Blues_r\", df.shape[0])\n",
    "    \n",
    "    top_down_index = df['decrease_ratio'].sort_values(ascending=False).index\n",
    "    plot_order = df.iloc[top_down_index]['HDNG_NM'].values\n",
    "    sns.barplot(x = x_axis, y='decrease_ratio', data=df, order=plot_order)\n",
    "    plt.axhline(cj_seoul_gu_gap.loc[gu_name, 'decrease_ratio'])"
   ]
  },
  {
   "cell_type": "code",
   "execution_count": 97,
   "metadata": {},
   "outputs": [
    {
     "data": {
      "image/png": "[encoded data removed]",
      "text/plain": [
       "<Figure size 1296x432 with 1 Axes>"
      ]
     },
     "metadata": {
      "needs_background": "light"
     },
     "output_type": "display_data"
    }
   ],
   "source": [
    "plot_region_dong_sensitivity(cj_seoul_dong_gap.xs(\"노원구\").reset_index(), 'HDNG_NM', '노원구')"
   ]
  },
  {
   "cell_type": "markdown",
   "metadata": {},
   "source": [
    "# 중구"
   ]
  },
  {
   "cell_type": "code",
   "execution_count": 99,
   "metadata": {},
   "outputs": [
    {
     "data": {
      "image/png": "[encoded data removed]",
      "text/plain": [
       "<Figure size 1296x432 with 1 Axes>"
      ]
     },
     "metadata": {
      "needs_background": "light"
     },
     "output_type": "display_data"
    }
   ],
   "source": [
    "plot_region_dong_sensitivity(cj_seoul_dong_gap.xs(\"중구\").reset_index(), 'HDNG_NM', '중구')"
   ]
  },
  {
   "cell_type": "code",
   "execution_count": 104,
   "metadata": {},
   "outputs": [
    {
     "data": {
      "text/plain": [
       "<matplotlib.lines.Line2D at 0x1228dd70b20>"
      ]
     },
     "execution_count": 104,
     "metadata": {},
     "output_type": "execute_result"
    },
    {
     "data": {
      "image/png": "[encoded data removed]",
      "text/plain": [
       "<Figure size 432x288 with 1 Axes>"
      ]
     },
     "metadata": {
      "needs_background": "light"
     },
     "output_type": "display_data"
    }
   ],
   "source": [
    "sns.scatterplot(x = cj_seoul_dong_gap['decrease_ratio'], y = sk_seoul_dong_gap['decrease_ratio'])\n",
    "plt.axhline(74.68449978696867)\n",
    "plt.axvline(127.22036094010637, color='r')"
   ]
  },
  {
   "cell_type": "markdown",
   "metadata": {},
   "source": [
    "## 거지같은 동화동 제거"
   ]
  },
  {
   "cell_type": "code",
   "execution_count": 129,
   "metadata": {},
   "outputs": [],
   "source": [
    "cj_seoul_dong_gap2 = cj_seoul_dong_gap.reset_index()\n",
    "donghwadong_index = cj_seoul_dong_gap2[cj_seoul_dong_gap2['HDNG_NM'] == '동화동'].index[0]\n",
    "cj_seoul_dong_gap2.drop(donghwadong_index, axis=0, inplace=True)\n",
    "\n",
    "sk_seoul_dong_gap2 = sk_seoul_dong_gap.reset_index()\n",
    "donghwadong_index = sk_seoul_dong_gap2[sk_seoul_dong_gap2['HDNG_NM'] == '동화동'].index[0]\n",
    "sk_seoul_dong_gap2.drop(donghwadong_index, axis=0, inplace=True)"
   ]
  },
  {
   "cell_type": "code",
   "execution_count": 130,
   "metadata": {},
   "outputs": [
    {
     "data": {
      "text/plain": [
       "<matplotlib.lines.Line2D at 0x1228eeb7280>"
      ]
     },
     "execution_count": 130,
     "metadata": {},
     "output_type": "execute_result"
    },
    {
     "data": {
      "image/png": "[encoded data removed]",
      "text/plain": [
       "<Figure size 432x288 with 1 Axes>"
      ]
     },
     "metadata": {
      "needs_background": "light"
     },
     "output_type": "display_data"
    }
   ],
   "source": [
    "sns.scatterplot(x = cj_seoul_dong_gap2['decrease_ratio'], y = sk_seoul_dong_gap2['decrease_ratio'])\n",
    "plt.axhline(74.68449978696867)\n",
    "plt.axvline(127.22036094010637, color='r')"
   ]
  },
  {
   "cell_type": "markdown",
   "metadata": {},
   "source": [
    "# 이쯤에서.. 차라리 그냥 유동인구로 간단하게 집단을 나누고 19-21주차의 카드와 물류로 구독경제와 드라이브 쓰루 하면 되지않을까 생각이 들기 시작.."
   ]
  },
  {
   "cell_type": "markdown",
   "metadata": {},
   "source": [
    "## 일단 단편적으로 보기위해서 노원구만 한번 보기로 결정!"
   ]
  },
  {
   "cell_type": "code",
   "execution_count": 60,
   "metadata": {},
   "outputs": [
    {
     "data": {
      "image/png": "[encoded data removed]",
      "text/plain": [
       "<Figure size 1296x432 with 1 Axes>"
      ]
     },
     "metadata": {
      "needs_background": "light"
     },
     "output_type": "display_data"
    }
   ],
   "source": [
    "plot_region_dong_sensitivity(sk_seoul_dong_gap.xs(\"노원구\").reset_index(), 'HDNG_NM', '노원구')"
   ]
  },
  {
   "cell_type": "markdown",
   "metadata": {},
   "source": [
    "#### 나의 임의적 가정하에 노원구 전체의 유동지수인 80 +- 7 을 기준으로 노멀한 지역으로 잡고 그거보다 작으면 유동인구가 많이 하락한 유동인구 민감지역, 그거보다 크면 유동인구가 크게 하락하지 않거나 오히려 상승한 이상지역이라 판단"
   ]
  },
  {
   "cell_type": "markdown",
   "metadata": {},
   "source": [
    "#### 두드러지는 차이를 보이는 상위 4개를 민감지역, 하위 4개를 이상지역, 나머지를 보통지역이라 분류"
   ]
  },
  {
   "cell_type": "code",
   "execution_count": 174,
   "metadata": {},
   "outputs": [
    {
     "data": {
      "text/plain": [
       "<matplotlib.lines.Line2D at 0x21f062194f0>"
      ]
     },
     "execution_count": 174,
     "metadata": {},
     "output_type": "execute_result"
    },
    {
     "data": {
      "image/png": "[encoded data removed]",
      "text/plain": [
       "<Figure size 432x288 with 1 Axes>"
      ]
     },
     "metadata": {
      "needs_background": "light"
     },
     "output_type": "display_data"
    }
   ],
   "source": [
    "nowon_data = sk_seoul_dong_gap.xs(\"노원구\").reset_index().sort_values(by='decrease_ratio', ascending=False)\n",
    "nowon_data.reset_index(drop=True, inplace=True)\n",
    "\n",
    "# 지역 분류 top : 둔감, middle: 보통, bottom : 민감지역\n",
    "top_districks = nowon_data[:4]\n",
    "middle_districks = nowon_data[4:-4]\n",
    "bottom_districks = nowon_data[-4:]\n",
    "\n",
    "sensitive_dic = {\n",
    "    'top' : top_districks['decrease_ratio'].mean(),\n",
    "    'middle' : middle_districks['decrease_ratio'].mean(),\n",
    "    'bottom' : bottom_districks['decrease_ratio'].mean()\n",
    "}\n",
    "\n",
    "pd.Series(sensitive_dic).plot(kind='bar')\n",
    "plt.axhline(sk_seoul_gu_gap.loc['노원구', 'decrease_ratio'], color='red')"
   ]
  },
  {
   "cell_type": "markdown",
   "metadata": {},
   "source": [
    "## 집단별로 평균을 먹여본 결과 노원구 유동지수 평균을 기준으로 집단이 나뉘는 모습"
   ]
  },
  {
   "cell_type": "code",
   "execution_count": null,
   "metadata": {},
   "outputs": [],
   "source": []
  }
 ],
 "metadata": {
  "kernelspec": {
   "display_name": "Python 3",
   "language": "python",
   "name": "python3"
  },
  "language_info": {
   "codemirror_mode": {
    "name": "ipython",
    "version": 3
   },
   "file_extension": ".py",
   "mimetype": "text/x-python",
   "name": "python",
   "nbconvert_exporter": "python",
   "pygments_lexer": "ipython3",
   "version": "3.8.3"
  }
 },
 "nbformat": 4,
 "nbformat_minor": 4
}
