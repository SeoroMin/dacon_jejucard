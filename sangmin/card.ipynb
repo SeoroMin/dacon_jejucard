{
 "cells": [
  {
   "cell_type": "code",
   "execution_count": 37,
   "metadata": {},
   "outputs": [],
   "source": [
    "import pandas as pd\n",
    "import numpy as np\n",
    "\n",
    "import matplotlib.pyplot as plt\n",
    "import seaborn as sns"
   ]
  },
  {
   "cell_type": "code",
   "execution_count": 19,
   "metadata": {},
   "outputs": [],
   "source": [
    "card_re = pd.read_csv(\"CARD_SPENDING_RESIDENT/CARD_SPENDING_RESIDENT.txt\", sep =\"\\t\")\n"
   ]
  },
  {
   "cell_type": "code",
   "execution_count": 21,
   "metadata": {},
   "outputs": [],
   "source": [
    "card_fo = pd.read_csv(\"CARD_SPENDING_FOREIGNER/CARD_SPENDING_FOREIGNER.txt\", sep =\"\\t\", encoding='CP949')"
   ]
  },
  {
   "cell_type": "code",
   "execution_count": 22,
   "metadata": {},
   "outputs": [
    {
     "data": {
      "text/html": [
       "<div>\n",
       "<style scoped>\n",
       "    .dataframe tbody tr th:only-of-type {\n",
       "        vertical-align: middle;\n",
       "    }\n",
       "\n",
       "    .dataframe tbody tr th {\n",
       "        vertical-align: top;\n",
       "    }\n",
       "\n",
       "    .dataframe thead th {\n",
       "        text-align: right;\n",
       "    }\n",
       "</style>\n",
       "<table border=\"1\" class=\"dataframe\">\n",
       "  <thead>\n",
       "    <tr style=\"text-align: right;\">\n",
       "      <th></th>\n",
       "      <th>STD_DD</th>\n",
       "      <th>GU_CD</th>\n",
       "      <th>DONG_CD</th>\n",
       "      <th>MCT_CAT_CD</th>\n",
       "      <th>SEX_CD</th>\n",
       "      <th>AGE_CD</th>\n",
       "      <th>USE_CNT</th>\n",
       "      <th>USE_AMT</th>\n",
       "    </tr>\n",
       "  </thead>\n",
       "  <tbody>\n",
       "    <tr>\n",
       "      <td>0</td>\n",
       "      <td>20190201</td>\n",
       "      <td>110</td>\n",
       "      <td>517</td>\n",
       "      <td>10</td>\n",
       "      <td>F</td>\n",
       "      <td>25</td>\n",
       "      <td>11</td>\n",
       "      <td>595</td>\n",
       "    </tr>\n",
       "    <tr>\n",
       "      <td>1</td>\n",
       "      <td>20190201</td>\n",
       "      <td>110</td>\n",
       "      <td>517</td>\n",
       "      <td>10</td>\n",
       "      <td>F</td>\n",
       "      <td>50</td>\n",
       "      <td>5</td>\n",
       "      <td>243</td>\n",
       "    </tr>\n",
       "    <tr>\n",
       "      <td>2</td>\n",
       "      <td>20190201</td>\n",
       "      <td>110</td>\n",
       "      <td>517</td>\n",
       "      <td>10</td>\n",
       "      <td>F</td>\n",
       "      <td>55</td>\n",
       "      <td>5</td>\n",
       "      <td>27</td>\n",
       "    </tr>\n",
       "    <tr>\n",
       "      <td>3</td>\n",
       "      <td>20190201</td>\n",
       "      <td>110</td>\n",
       "      <td>517</td>\n",
       "      <td>10</td>\n",
       "      <td>M</td>\n",
       "      <td>20</td>\n",
       "      <td>11</td>\n",
       "      <td>243</td>\n",
       "    </tr>\n",
       "    <tr>\n",
       "      <td>4</td>\n",
       "      <td>20190201</td>\n",
       "      <td>110</td>\n",
       "      <td>517</td>\n",
       "      <td>10</td>\n",
       "      <td>M</td>\n",
       "      <td>25</td>\n",
       "      <td>11</td>\n",
       "      <td>433</td>\n",
       "    </tr>\n",
       "  </tbody>\n",
       "</table>\n",
       "</div>"
      ],
      "text/plain": [
       "     STD_DD  GU_CD  DONG_CD  MCT_CAT_CD SEX_CD  AGE_CD  USE_CNT  USE_AMT\n",
       "0  20190201    110      517          10      F      25       11      595\n",
       "1  20190201    110      517          10      F      50        5      243\n",
       "2  20190201    110      517          10      F      55        5       27\n",
       "3  20190201    110      517          10      M      20       11      243\n",
       "4  20190201    110      517          10      M      25       11      433"
      ]
     },
     "execution_count": 22,
     "metadata": {},
     "output_type": "execute_result"
    }
   ],
   "source": [
    "card_re.head()"
   ]
  },
  {
   "cell_type": "code",
   "execution_count": 23,
   "metadata": {},
   "outputs": [
    {
     "data": {
      "text/html": [
       "<div>\n",
       "<style scoped>\n",
       "    .dataframe tbody tr th:only-of-type {\n",
       "        vertical-align: middle;\n",
       "    }\n",
       "\n",
       "    .dataframe tbody tr th {\n",
       "        vertical-align: top;\n",
       "    }\n",
       "\n",
       "    .dataframe thead th {\n",
       "        text-align: right;\n",
       "    }\n",
       "</style>\n",
       "<table border=\"1\" class=\"dataframe\">\n",
       "  <thead>\n",
       "    <tr style=\"text-align: right;\">\n",
       "      <th></th>\n",
       "      <th>STD_DD</th>\n",
       "      <th>GU_CD</th>\n",
       "      <th>DONG_CD</th>\n",
       "      <th>MCT_CAT_CD</th>\n",
       "      <th>COUNTRY_NM</th>\n",
       "      <th>USE_CNT</th>\n",
       "      <th>USE_AMT</th>\n",
       "    </tr>\n",
       "  </thead>\n",
       "  <tbody>\n",
       "    <tr>\n",
       "      <td>0</td>\n",
       "      <td>20190204</td>\n",
       "      <td>260</td>\n",
       "      <td>510</td>\n",
       "      <td>81</td>\n",
       "      <td>대만</td>\n",
       "      <td>2</td>\n",
       "      <td>30.0</td>\n",
       "    </tr>\n",
       "    <tr>\n",
       "      <td>1</td>\n",
       "      <td>20190213</td>\n",
       "      <td>260</td>\n",
       "      <td>510</td>\n",
       "      <td>40</td>\n",
       "      <td>대만</td>\n",
       "      <td>2</td>\n",
       "      <td>32.0</td>\n",
       "    </tr>\n",
       "    <tr>\n",
       "      <td>2</td>\n",
       "      <td>20190416</td>\n",
       "      <td>260</td>\n",
       "      <td>510</td>\n",
       "      <td>40</td>\n",
       "      <td>대만</td>\n",
       "      <td>2</td>\n",
       "      <td>16.0</td>\n",
       "    </tr>\n",
       "    <tr>\n",
       "      <td>3</td>\n",
       "      <td>20190419</td>\n",
       "      <td>260</td>\n",
       "      <td>510</td>\n",
       "      <td>42</td>\n",
       "      <td>대만</td>\n",
       "      <td>3</td>\n",
       "      <td>610.0</td>\n",
       "    </tr>\n",
       "    <tr>\n",
       "      <td>4</td>\n",
       "      <td>20190308</td>\n",
       "      <td>260</td>\n",
       "      <td>510</td>\n",
       "      <td>10</td>\n",
       "      <td>대만</td>\n",
       "      <td>7</td>\n",
       "      <td>629.0</td>\n",
       "    </tr>\n",
       "  </tbody>\n",
       "</table>\n",
       "</div>"
      ],
      "text/plain": [
       "     STD_DD  GU_CD  DONG_CD  MCT_CAT_CD COUNTRY_NM  USE_CNT  USE_AMT\n",
       "0  20190204    260      510          81         대만        2     30.0\n",
       "1  20190213    260      510          40         대만        2     32.0\n",
       "2  20190416    260      510          40         대만        2     16.0\n",
       "3  20190419    260      510          42         대만        3    610.0\n",
       "4  20190308    260      510          10         대만        7    629.0"
      ]
     },
     "execution_count": 23,
     "metadata": {},
     "output_type": "execute_result"
    }
   ],
   "source": [
    "card_fo.head()"
   ]
  },
  {
   "cell_type": "code",
   "execution_count": 26,
   "metadata": {},
   "outputs": [
    {
     "name": "stdout",
     "output_type": "stream",
     "text": [
      "(2537753, 8)\n",
      "(238829, 7)\n"
     ]
    }
   ],
   "source": [
    "print(card_re.shape)\n",
    "print(card_fo.shape)"
   ]
  },
  {
   "cell_type": "markdown",
   "metadata": {},
   "source": [
    "- 외국인 데이터는 내국인에 비해 10분의 1"
   ]
  },
  {
   "cell_type": "code",
   "execution_count": 27,
   "metadata": {},
   "outputs": [
    {
     "name": "stdout",
     "output_type": "stream",
     "text": [
      "<class 'pandas.core.frame.DataFrame'>\n",
      "RangeIndex: 2537753 entries, 0 to 2537752\n",
      "Data columns (total 8 columns):\n",
      "STD_DD        int64\n",
      "GU_CD         int64\n",
      "DONG_CD       int64\n",
      "MCT_CAT_CD    int64\n",
      "SEX_CD        object\n",
      "AGE_CD        int64\n",
      "USE_CNT       int64\n",
      "USE_AMT       int64\n",
      "dtypes: int64(7), object(1)\n",
      "memory usage: 154.9+ MB\n"
     ]
    }
   ],
   "source": [
    "card_re.info()"
   ]
  },
  {
   "cell_type": "code",
   "execution_count": 90,
   "metadata": {},
   "outputs": [],
   "source": [
    "def grap_year(data):\n",
    "    data = str(data)\n",
    "    return int(data[:4])\n",
    "\n",
    "def grap_month(data):\n",
    "    data = str(data)\n",
    "    return int(data[4:6])\n",
    "\n",
    "def year_month(data):\n",
    "    data = str(data)\n",
    "    return int(data[0:6])"
   ]
  },
  {
   "cell_type": "code",
   "execution_count": 32,
   "metadata": {},
   "outputs": [],
   "source": [
    "card_re['year'] = card_re['STD_DD'].apply(lambda x: grap_year(x))\n",
    "card_re['month'] = card_re['STD_DD'].apply(lambda x: grap_month(x))"
   ]
  },
  {
   "cell_type": "code",
   "execution_count": null,
   "metadata": {},
   "outputs": [],
   "source": []
  },
  {
   "cell_type": "code",
   "execution_count": 40,
   "metadata": {},
   "outputs": [
    {
     "data": {
      "text/html": [
       "<div>\n",
       "<style scoped>\n",
       "    .dataframe tbody tr th:only-of-type {\n",
       "        vertical-align: middle;\n",
       "    }\n",
       "\n",
       "    .dataframe tbody tr th {\n",
       "        vertical-align: top;\n",
       "    }\n",
       "\n",
       "    .dataframe thead th {\n",
       "        text-align: right;\n",
       "    }\n",
       "</style>\n",
       "<table border=\"1\" class=\"dataframe\">\n",
       "  <thead>\n",
       "    <tr style=\"text-align: right;\">\n",
       "      <th></th>\n",
       "      <th>STD_DD</th>\n",
       "      <th>GU_CD</th>\n",
       "      <th>DONG_CD</th>\n",
       "      <th>MCT_CAT_CD</th>\n",
       "      <th>AGE_CD</th>\n",
       "      <th>USE_CNT</th>\n",
       "      <th>USE_AMT</th>\n",
       "      <th>year</th>\n",
       "      <th>month</th>\n",
       "    </tr>\n",
       "  </thead>\n",
       "  <tbody>\n",
       "    <tr>\n",
       "      <td>STD_DD</td>\n",
       "      <td>1.000000</td>\n",
       "      <td>0.005508</td>\n",
       "      <td>0.010944</td>\n",
       "      <td>0.024779</td>\n",
       "      <td>0.003648</td>\n",
       "      <td>-0.012222</td>\n",
       "      <td>-0.017655</td>\n",
       "      <td>0.999747</td>\n",
       "      <td>0.022204</td>\n",
       "    </tr>\n",
       "    <tr>\n",
       "      <td>GU_CD</td>\n",
       "      <td>0.005508</td>\n",
       "      <td>1.000000</td>\n",
       "      <td>0.250720</td>\n",
       "      <td>0.039982</td>\n",
       "      <td>0.009963</td>\n",
       "      <td>-0.040352</td>\n",
       "      <td>-0.074467</td>\n",
       "      <td>0.005541</td>\n",
       "      <td>-0.001373</td>\n",
       "    </tr>\n",
       "    <tr>\n",
       "      <td>DONG_CD</td>\n",
       "      <td>0.010944</td>\n",
       "      <td>0.250720</td>\n",
       "      <td>1.000000</td>\n",
       "      <td>0.049414</td>\n",
       "      <td>0.006576</td>\n",
       "      <td>-0.106927</td>\n",
       "      <td>-0.130110</td>\n",
       "      <td>0.010923</td>\n",
       "      <td>0.001029</td>\n",
       "    </tr>\n",
       "    <tr>\n",
       "      <td>MCT_CAT_CD</td>\n",
       "      <td>0.024779</td>\n",
       "      <td>0.039982</td>\n",
       "      <td>0.049414</td>\n",
       "      <td>1.000000</td>\n",
       "      <td>0.040777</td>\n",
       "      <td>0.042225</td>\n",
       "      <td>0.009865</td>\n",
       "      <td>0.024832</td>\n",
       "      <td>-0.002377</td>\n",
       "    </tr>\n",
       "    <tr>\n",
       "      <td>AGE_CD</td>\n",
       "      <td>0.003648</td>\n",
       "      <td>0.009963</td>\n",
       "      <td>0.006576</td>\n",
       "      <td>0.040777</td>\n",
       "      <td>1.000000</td>\n",
       "      <td>-0.061152</td>\n",
       "      <td>-0.005489</td>\n",
       "      <td>0.003546</td>\n",
       "      <td>0.004300</td>\n",
       "    </tr>\n",
       "    <tr>\n",
       "      <td>USE_CNT</td>\n",
       "      <td>-0.012222</td>\n",
       "      <td>-0.040352</td>\n",
       "      <td>-0.106927</td>\n",
       "      <td>0.042225</td>\n",
       "      <td>-0.061152</td>\n",
       "      <td>1.000000</td>\n",
       "      <td>0.621477</td>\n",
       "      <td>-0.012392</td>\n",
       "      <td>0.007224</td>\n",
       "    </tr>\n",
       "    <tr>\n",
       "      <td>USE_AMT</td>\n",
       "      <td>-0.017655</td>\n",
       "      <td>-0.074467</td>\n",
       "      <td>-0.130110</td>\n",
       "      <td>0.009865</td>\n",
       "      <td>-0.005489</td>\n",
       "      <td>0.621477</td>\n",
       "      <td>1.000000</td>\n",
       "      <td>-0.017826</td>\n",
       "      <td>0.006779</td>\n",
       "    </tr>\n",
       "    <tr>\n",
       "      <td>year</td>\n",
       "      <td>0.999747</td>\n",
       "      <td>0.005541</td>\n",
       "      <td>0.010923</td>\n",
       "      <td>0.024832</td>\n",
       "      <td>0.003546</td>\n",
       "      <td>-0.012392</td>\n",
       "      <td>-0.017826</td>\n",
       "      <td>1.000000</td>\n",
       "      <td>-0.000217</td>\n",
       "    </tr>\n",
       "    <tr>\n",
       "      <td>month</td>\n",
       "      <td>0.022204</td>\n",
       "      <td>-0.001373</td>\n",
       "      <td>0.001029</td>\n",
       "      <td>-0.002377</td>\n",
       "      <td>0.004300</td>\n",
       "      <td>0.007224</td>\n",
       "      <td>0.006779</td>\n",
       "      <td>-0.000217</td>\n",
       "      <td>1.000000</td>\n",
       "    </tr>\n",
       "  </tbody>\n",
       "</table>\n",
       "</div>"
      ],
      "text/plain": [
       "              STD_DD     GU_CD   DONG_CD  MCT_CAT_CD    AGE_CD   USE_CNT  \\\n",
       "STD_DD      1.000000  0.005508  0.010944    0.024779  0.003648 -0.012222   \n",
       "GU_CD       0.005508  1.000000  0.250720    0.039982  0.009963 -0.040352   \n",
       "DONG_CD     0.010944  0.250720  1.000000    0.049414  0.006576 -0.106927   \n",
       "MCT_CAT_CD  0.024779  0.039982  0.049414    1.000000  0.040777  0.042225   \n",
       "AGE_CD      0.003648  0.009963  0.006576    0.040777  1.000000 -0.061152   \n",
       "USE_CNT    -0.012222 -0.040352 -0.106927    0.042225 -0.061152  1.000000   \n",
       "USE_AMT    -0.017655 -0.074467 -0.130110    0.009865 -0.005489  0.621477   \n",
       "year        0.999747  0.005541  0.010923    0.024832  0.003546 -0.012392   \n",
       "month       0.022204 -0.001373  0.001029   -0.002377  0.004300  0.007224   \n",
       "\n",
       "             USE_AMT      year     month  \n",
       "STD_DD     -0.017655  0.999747  0.022204  \n",
       "GU_CD      -0.074467  0.005541 -0.001373  \n",
       "DONG_CD    -0.130110  0.010923  0.001029  \n",
       "MCT_CAT_CD  0.009865  0.024832 -0.002377  \n",
       "AGE_CD     -0.005489  0.003546  0.004300  \n",
       "USE_CNT     0.621477 -0.012392  0.007224  \n",
       "USE_AMT     1.000000 -0.017826  0.006779  \n",
       "year       -0.017826  1.000000 -0.000217  \n",
       "month       0.006779 -0.000217  1.000000  "
      ]
     },
     "execution_count": 40,
     "metadata": {},
     "output_type": "execute_result"
    },
    {
     "data": {
      "image/png": "[encoded data removed]",
      "text/plain": [
       "<Figure size 720x720 with 2 Axes>"
      ]
     },
     "metadata": {
      "needs_background": "light"
     },
     "output_type": "display_data"
    }
   ],
   "source": [
    "plt.figure(figsize=(10, 10))\n",
    "sns.heatmap(data = card_re.corr(), annot=True, fmt= '.2f', linewidths=.5, cmap='Blues')\n",
    "card_re.corr()"
   ]
  },
  {
   "cell_type": "code",
   "execution_count": 41,
   "metadata": {},
   "outputs": [
    {
     "data": {
      "text/html": [
       "<div>\n",
       "<style scoped>\n",
       "    .dataframe tbody tr th:only-of-type {\n",
       "        vertical-align: middle;\n",
       "    }\n",
       "\n",
       "    .dataframe tbody tr th {\n",
       "        vertical-align: top;\n",
       "    }\n",
       "\n",
       "    .dataframe thead th {\n",
       "        text-align: right;\n",
       "    }\n",
       "</style>\n",
       "<table border=\"1\" class=\"dataframe\">\n",
       "  <thead>\n",
       "    <tr style=\"text-align: right;\">\n",
       "      <th></th>\n",
       "      <th>STD_DD</th>\n",
       "      <th>GU_CD</th>\n",
       "      <th>DONG_CD</th>\n",
       "      <th>MCT_CAT_CD</th>\n",
       "      <th>SEX_CD</th>\n",
       "      <th>AGE_CD</th>\n",
       "      <th>USE_CNT</th>\n",
       "      <th>USE_AMT</th>\n",
       "      <th>year</th>\n",
       "      <th>month</th>\n",
       "    </tr>\n",
       "  </thead>\n",
       "  <tbody>\n",
       "    <tr>\n",
       "      <td>0</td>\n",
       "      <td>20190201</td>\n",
       "      <td>110</td>\n",
       "      <td>517</td>\n",
       "      <td>10</td>\n",
       "      <td>F</td>\n",
       "      <td>25</td>\n",
       "      <td>11</td>\n",
       "      <td>595</td>\n",
       "      <td>2019</td>\n",
       "      <td>2</td>\n",
       "    </tr>\n",
       "    <tr>\n",
       "      <td>1</td>\n",
       "      <td>20190201</td>\n",
       "      <td>110</td>\n",
       "      <td>517</td>\n",
       "      <td>10</td>\n",
       "      <td>F</td>\n",
       "      <td>50</td>\n",
       "      <td>5</td>\n",
       "      <td>243</td>\n",
       "      <td>2019</td>\n",
       "      <td>2</td>\n",
       "    </tr>\n",
       "    <tr>\n",
       "      <td>2</td>\n",
       "      <td>20190201</td>\n",
       "      <td>110</td>\n",
       "      <td>517</td>\n",
       "      <td>10</td>\n",
       "      <td>F</td>\n",
       "      <td>55</td>\n",
       "      <td>5</td>\n",
       "      <td>27</td>\n",
       "      <td>2019</td>\n",
       "      <td>2</td>\n",
       "    </tr>\n",
       "    <tr>\n",
       "      <td>3</td>\n",
       "      <td>20190201</td>\n",
       "      <td>110</td>\n",
       "      <td>517</td>\n",
       "      <td>10</td>\n",
       "      <td>M</td>\n",
       "      <td>20</td>\n",
       "      <td>11</td>\n",
       "      <td>243</td>\n",
       "      <td>2019</td>\n",
       "      <td>2</td>\n",
       "    </tr>\n",
       "    <tr>\n",
       "      <td>4</td>\n",
       "      <td>20190201</td>\n",
       "      <td>110</td>\n",
       "      <td>517</td>\n",
       "      <td>10</td>\n",
       "      <td>M</td>\n",
       "      <td>25</td>\n",
       "      <td>11</td>\n",
       "      <td>433</td>\n",
       "      <td>2019</td>\n",
       "      <td>2</td>\n",
       "    </tr>\n",
       "  </tbody>\n",
       "</table>\n",
       "</div>"
      ],
      "text/plain": [
       "     STD_DD  GU_CD  DONG_CD  MCT_CAT_CD SEX_CD  AGE_CD  USE_CNT  USE_AMT  \\\n",
       "0  20190201    110      517          10      F      25       11      595   \n",
       "1  20190201    110      517          10      F      50        5      243   \n",
       "2  20190201    110      517          10      F      55        5       27   \n",
       "3  20190201    110      517          10      M      20       11      243   \n",
       "4  20190201    110      517          10      M      25       11      433   \n",
       "\n",
       "   year  month  \n",
       "0  2019      2  \n",
       "1  2019      2  \n",
       "2  2019      2  \n",
       "3  2019      2  \n",
       "4  2019      2  "
      ]
     },
     "execution_count": 41,
     "metadata": {},
     "output_type": "execute_result"
    }
   ],
   "source": [
    "card_re.head()"
   ]
  },
  {
   "cell_type": "code",
   "execution_count": 55,
   "metadata": {},
   "outputs": [
    {
     "data": {
      "text/plain": [
       "<matplotlib.axes._subplots.AxesSubplot at 0x1a60f049588>"
      ]
     },
     "execution_count": 55,
     "metadata": {},
     "output_type": "execute_result"
    },
    {
     "data": {
      "image/png": "[encoded data removed]",
      "text/plain": [
       "<Figure size 432x288 with 1 Axes>"
      ]
     },
     "metadata": {
      "needs_background": "light"
     },
     "output_type": "display_data"
    }
   ],
   "source": [
    "card_re.groupby(\"year\")[\"USE_CNT\"].mean().plot(kind=\"bar\", rot=0)"
   ]
  },
  {
   "cell_type": "markdown",
   "metadata": {},
   "source": [
    "- 역시나 2020년 이용건수 감소"
   ]
  },
  {
   "cell_type": "code",
   "execution_count": 56,
   "metadata": {},
   "outputs": [
    {
     "data": {
      "text/plain": [
       "<matplotlib.axes._subplots.AxesSubplot at 0x1a60f0b0c18>"
      ]
     },
     "execution_count": 56,
     "metadata": {},
     "output_type": "execute_result"
    },
    {
     "data": {
      "image/png": "[encoded data removed]",
      "text/plain": [
       "<Figure size 432x288 with 1 Axes>"
      ]
     },
     "metadata": {
      "needs_background": "light"
     },
     "output_type": "display_data"
    }
   ],
   "source": [
    "card_re.groupby(\"year\")[\"USE_CNT\"].sum().plot(kind=\"bar\", rot=0)"
   ]
  },
  {
   "cell_type": "code",
   "execution_count": 61,
   "metadata": {},
   "outputs": [
    {
     "data": {
      "text/plain": [
       "<matplotlib.axes._subplots.AxesSubplot at 0x1a60f1d9dd8>"
      ]
     },
     "execution_count": 61,
     "metadata": {},
     "output_type": "execute_result"
    },
    {
     "data": {
      "image/png": "[encoded data removed]",
      "text/plain": [
       "<Figure size 432x288 with 1 Axes>"
      ]
     },
     "metadata": {
      "needs_background": "light"
     },
     "output_type": "display_data"
    }
   ],
   "source": [
    "card_re.groupby(\"month\")[\"USE_CNT\"].mean().plot(kind=\"bar\", rot=0)"
   ]
  },
  {
   "cell_type": "markdown",
   "metadata": {},
   "source": [
    "- 2019+2020년 합친 달 별로 봤을 때는 계속 증가"
   ]
  },
  {
   "cell_type": "code",
   "execution_count": 62,
   "metadata": {},
   "outputs": [
    {
     "data": {
      "text/plain": [
       "<matplotlib.axes._subplots.AxesSubplot at 0x1a60f22e048>"
      ]
     },
     "execution_count": 62,
     "metadata": {},
     "output_type": "execute_result"
    },
    {
     "data": {
      "image/png": "[encoded data removed]",
      "text/plain": [
       "<Figure size 432x288 with 1 Axes>"
      ]
     },
     "metadata": {
      "needs_background": "light"
     },
     "output_type": "display_data"
    }
   ],
   "source": [
    "card_re.groupby(\"month\")[\"USE_CNT\"].sum().plot(kind=\"bar\", rot=0)"
   ]
  },
  {
   "cell_type": "code",
   "execution_count": 64,
   "metadata": {},
   "outputs": [
    {
     "data": {
      "text/plain": [
       "<matplotlib.axes._subplots.AxesSubplot at 0x1a60f1af978>"
      ]
     },
     "execution_count": 64,
     "metadata": {},
     "output_type": "execute_result"
    },
    {
     "data": {
      "image/png": "[encoded data removed]",
      "text/plain": [
       "<Figure size 432x288 with 1 Axes>"
      ]
     },
     "metadata": {
      "needs_background": "light"
     },
     "output_type": "display_data"
    }
   ],
   "source": [
    "card_re.groupby(\"month\")[\"USE_AMT\"].mean().plot(kind=\"bar\", rot=0)"
   ]
  },
  {
   "cell_type": "code",
   "execution_count": 70,
   "metadata": {},
   "outputs": [
    {
     "data": {
      "text/plain": [
       "<matplotlib.axes._subplots.AxesSubplot at 0x1a60f33bf98>"
      ]
     },
     "execution_count": 70,
     "metadata": {},
     "output_type": "execute_result"
    },
    {
     "data": {
      "image/png": "[encoded data removed]",
      "text/plain": [
       "<Figure size 432x288 with 1 Axes>"
      ]
     },
     "metadata": {
      "needs_background": "light"
     },
     "output_type": "display_data"
    }
   ],
   "source": [
    "pd.DataFrame(card_re.groupby('MCT_CAT_CD')['USE_AMT'].sum()).plot(kind=\"bar\")"
   ]
  },
  {
   "cell_type": "markdown",
   "metadata": {},
   "source": [
    "- 내국인 업종별 총액을 봤을 때, 40 >>>> 80 >>> 70 >> | 넘사벽 | > 20, 33, 71, 81\n",
    "- 40:유통업, 80:요식업소, 70:의료기관"
   ]
  },
  {
   "cell_type": "code",
   "execution_count": 73,
   "metadata": {},
   "outputs": [
    {
     "data": {
      "text/html": [
       "<div>\n",
       "<style scoped>\n",
       "    .dataframe tbody tr th:only-of-type {\n",
       "        vertical-align: middle;\n",
       "    }\n",
       "\n",
       "    .dataframe tbody tr th {\n",
       "        vertical-align: top;\n",
       "    }\n",
       "\n",
       "    .dataframe thead th {\n",
       "        text-align: right;\n",
       "    }\n",
       "</style>\n",
       "<table border=\"1\" class=\"dataframe\">\n",
       "  <thead>\n",
       "    <tr style=\"text-align: right;\">\n",
       "      <th></th>\n",
       "      <th>STD_DD</th>\n",
       "      <th>GU_CD</th>\n",
       "      <th>DONG_CD</th>\n",
       "      <th>MCT_CAT_CD</th>\n",
       "      <th>SEX_CD</th>\n",
       "      <th>AGE_CD</th>\n",
       "      <th>USE_CNT</th>\n",
       "      <th>USE_AMT</th>\n",
       "      <th>year</th>\n",
       "      <th>month</th>\n",
       "    </tr>\n",
       "  </thead>\n",
       "  <tbody>\n",
       "    <tr>\n",
       "      <td>0</td>\n",
       "      <td>20190201</td>\n",
       "      <td>110</td>\n",
       "      <td>517</td>\n",
       "      <td>10</td>\n",
       "      <td>F</td>\n",
       "      <td>25</td>\n",
       "      <td>11</td>\n",
       "      <td>595</td>\n",
       "      <td>2019</td>\n",
       "      <td>2</td>\n",
       "    </tr>\n",
       "    <tr>\n",
       "      <td>1</td>\n",
       "      <td>20190201</td>\n",
       "      <td>110</td>\n",
       "      <td>517</td>\n",
       "      <td>10</td>\n",
       "      <td>F</td>\n",
       "      <td>50</td>\n",
       "      <td>5</td>\n",
       "      <td>243</td>\n",
       "      <td>2019</td>\n",
       "      <td>2</td>\n",
       "    </tr>\n",
       "    <tr>\n",
       "      <td>2</td>\n",
       "      <td>20190201</td>\n",
       "      <td>110</td>\n",
       "      <td>517</td>\n",
       "      <td>10</td>\n",
       "      <td>F</td>\n",
       "      <td>55</td>\n",
       "      <td>5</td>\n",
       "      <td>27</td>\n",
       "      <td>2019</td>\n",
       "      <td>2</td>\n",
       "    </tr>\n",
       "    <tr>\n",
       "      <td>3</td>\n",
       "      <td>20190201</td>\n",
       "      <td>110</td>\n",
       "      <td>517</td>\n",
       "      <td>10</td>\n",
       "      <td>M</td>\n",
       "      <td>20</td>\n",
       "      <td>11</td>\n",
       "      <td>243</td>\n",
       "      <td>2019</td>\n",
       "      <td>2</td>\n",
       "    </tr>\n",
       "    <tr>\n",
       "      <td>4</td>\n",
       "      <td>20190201</td>\n",
       "      <td>110</td>\n",
       "      <td>517</td>\n",
       "      <td>10</td>\n",
       "      <td>M</td>\n",
       "      <td>25</td>\n",
       "      <td>11</td>\n",
       "      <td>433</td>\n",
       "      <td>2019</td>\n",
       "      <td>2</td>\n",
       "    </tr>\n",
       "    <tr>\n",
       "      <td>...</td>\n",
       "      <td>...</td>\n",
       "      <td>...</td>\n",
       "      <td>...</td>\n",
       "      <td>...</td>\n",
       "      <td>...</td>\n",
       "      <td>...</td>\n",
       "      <td>...</td>\n",
       "      <td>...</td>\n",
       "      <td>...</td>\n",
       "      <td>...</td>\n",
       "    </tr>\n",
       "    <tr>\n",
       "      <td>1310601</td>\n",
       "      <td>20190531</td>\n",
       "      <td>350</td>\n",
       "      <td>720</td>\n",
       "      <td>81</td>\n",
       "      <td>M</td>\n",
       "      <td>45</td>\n",
       "      <td>9</td>\n",
       "      <td>48</td>\n",
       "      <td>2019</td>\n",
       "      <td>5</td>\n",
       "    </tr>\n",
       "    <tr>\n",
       "      <td>1310602</td>\n",
       "      <td>20190531</td>\n",
       "      <td>350</td>\n",
       "      <td>720</td>\n",
       "      <td>81</td>\n",
       "      <td>M</td>\n",
       "      <td>50</td>\n",
       "      <td>13</td>\n",
       "      <td>72</td>\n",
       "      <td>2019</td>\n",
       "      <td>5</td>\n",
       "    </tr>\n",
       "    <tr>\n",
       "      <td>1310603</td>\n",
       "      <td>20190531</td>\n",
       "      <td>350</td>\n",
       "      <td>720</td>\n",
       "      <td>81</td>\n",
       "      <td>M</td>\n",
       "      <td>60</td>\n",
       "      <td>9</td>\n",
       "      <td>99</td>\n",
       "      <td>2019</td>\n",
       "      <td>5</td>\n",
       "    </tr>\n",
       "    <tr>\n",
       "      <td>1310604</td>\n",
       "      <td>20190531</td>\n",
       "      <td>350</td>\n",
       "      <td>720</td>\n",
       "      <td>81</td>\n",
       "      <td>M</td>\n",
       "      <td>65</td>\n",
       "      <td>9</td>\n",
       "      <td>133</td>\n",
       "      <td>2019</td>\n",
       "      <td>5</td>\n",
       "    </tr>\n",
       "    <tr>\n",
       "      <td>1310605</td>\n",
       "      <td>20190531</td>\n",
       "      <td>350</td>\n",
       "      <td>720</td>\n",
       "      <td>92</td>\n",
       "      <td>F</td>\n",
       "      <td>50</td>\n",
       "      <td>4</td>\n",
       "      <td>141</td>\n",
       "      <td>2019</td>\n",
       "      <td>5</td>\n",
       "    </tr>\n",
       "  </tbody>\n",
       "</table>\n",
       "<p>1310606 rows × 10 columns</p>\n",
       "</div>"
      ],
      "text/plain": [
       "           STD_DD  GU_CD  DONG_CD  MCT_CAT_CD SEX_CD  AGE_CD  USE_CNT  \\\n",
       "0        20190201    110      517          10      F      25       11   \n",
       "1        20190201    110      517          10      F      50        5   \n",
       "2        20190201    110      517          10      F      55        5   \n",
       "3        20190201    110      517          10      M      20       11   \n",
       "4        20190201    110      517          10      M      25       11   \n",
       "...           ...    ...      ...         ...    ...     ...      ...   \n",
       "1310601  20190531    350      720          81      M      45        9   \n",
       "1310602  20190531    350      720          81      M      50       13   \n",
       "1310603  20190531    350      720          81      M      60        9   \n",
       "1310604  20190531    350      720          81      M      65        9   \n",
       "1310605  20190531    350      720          92      F      50        4   \n",
       "\n",
       "         USE_AMT  year  month  \n",
       "0            595  2019      2  \n",
       "1            243  2019      2  \n",
       "2             27  2019      2  \n",
       "3            243  2019      2  \n",
       "4            433  2019      2  \n",
       "...          ...   ...    ...  \n",
       "1310601       48  2019      5  \n",
       "1310602       72  2019      5  \n",
       "1310603       99  2019      5  \n",
       "1310604      133  2019      5  \n",
       "1310605      141  2019      5  \n",
       "\n",
       "[1310606 rows x 10 columns]"
      ]
     },
     "execution_count": 73,
     "metadata": {},
     "output_type": "execute_result"
    }
   ],
   "source": [
    "card_re[card_re['year']==2019]"
   ]
  },
  {
   "cell_type": "code",
   "execution_count": 12,
   "metadata": {},
   "outputs": [],
   "source": [
    "card = card.set_index(\"STD_DD\")"
   ]
  },
  {
   "cell_type": "code",
   "execution_count": 6,
   "metadata": {},
   "outputs": [
    {
     "data": {
      "text/html": [
       "<div>\n",
       "<style scoped>\n",
       "    .dataframe tbody tr th:only-of-type {\n",
       "        vertical-align: middle;\n",
       "    }\n",
       "\n",
       "    .dataframe tbody tr th {\n",
       "        vertical-align: top;\n",
       "    }\n",
       "\n",
       "    .dataframe thead th {\n",
       "        text-align: right;\n",
       "    }\n",
       "</style>\n",
       "<table border=\"1\" class=\"dataframe\">\n",
       "  <thead>\n",
       "    <tr style=\"text-align: right;\">\n",
       "      <th></th>\n",
       "      <th>GU_CD</th>\n",
       "      <th>DONG_CD</th>\n",
       "      <th>MCT_CAT_CD</th>\n",
       "      <th>SEX_CD</th>\n",
       "      <th>AGE_CD</th>\n",
       "      <th>USE_CNT</th>\n",
       "      <th>USE_AMT</th>\n",
       "    </tr>\n",
       "    <tr>\n",
       "      <th>STD_DD</th>\n",
       "      <th></th>\n",
       "      <th></th>\n",
       "      <th></th>\n",
       "      <th></th>\n",
       "      <th></th>\n",
       "      <th></th>\n",
       "      <th></th>\n",
       "    </tr>\n",
       "  </thead>\n",
       "  <tbody>\n",
       "    <tr>\n",
       "      <td>20190201</td>\n",
       "      <td>110</td>\n",
       "      <td>517</td>\n",
       "      <td>10</td>\n",
       "      <td>F</td>\n",
       "      <td>25</td>\n",
       "      <td>11</td>\n",
       "      <td>595</td>\n",
       "    </tr>\n",
       "    <tr>\n",
       "      <td>20190201</td>\n",
       "      <td>110</td>\n",
       "      <td>517</td>\n",
       "      <td>10</td>\n",
       "      <td>F</td>\n",
       "      <td>50</td>\n",
       "      <td>5</td>\n",
       "      <td>243</td>\n",
       "    </tr>\n",
       "    <tr>\n",
       "      <td>20190201</td>\n",
       "      <td>110</td>\n",
       "      <td>517</td>\n",
       "      <td>10</td>\n",
       "      <td>F</td>\n",
       "      <td>55</td>\n",
       "      <td>5</td>\n",
       "      <td>27</td>\n",
       "    </tr>\n",
       "    <tr>\n",
       "      <td>20190201</td>\n",
       "      <td>110</td>\n",
       "      <td>517</td>\n",
       "      <td>10</td>\n",
       "      <td>M</td>\n",
       "      <td>20</td>\n",
       "      <td>11</td>\n",
       "      <td>243</td>\n",
       "    </tr>\n",
       "    <tr>\n",
       "      <td>20190201</td>\n",
       "      <td>110</td>\n",
       "      <td>517</td>\n",
       "      <td>10</td>\n",
       "      <td>M</td>\n",
       "      <td>25</td>\n",
       "      <td>11</td>\n",
       "      <td>433</td>\n",
       "    </tr>\n",
       "  </tbody>\n",
       "</table>\n",
       "</div>"
      ],
      "text/plain": [
       "          GU_CD  DONG_CD  MCT_CAT_CD SEX_CD  AGE_CD  USE_CNT  USE_AMT\n",
       "STD_DD                                                               \n",
       "20190201    110      517          10      F      25       11      595\n",
       "20190201    110      517          10      F      50        5      243\n",
       "20190201    110      517          10      F      55        5       27\n",
       "20190201    110      517          10      M      20       11      243\n",
       "20190201    110      517          10      M      25       11      433"
      ]
     },
     "execution_count": 6,
     "metadata": {},
     "output_type": "execute_result"
    }
   ],
   "source": [
    "card.head()"
   ]
  },
  {
   "cell_type": "code",
   "execution_count": 8,
   "metadata": {},
   "outputs": [
    {
     "data": {
      "text/plain": [
       "MCT_CAT_CD\n",
       "10     105099769\n",
       "20     183522267\n",
       "21      97166974\n",
       "22      37906017\n",
       "30      16149595\n",
       "31       2141099\n",
       "32      18188087\n",
       "33     246875042\n",
       "34      13968193\n",
       "35      57704475\n",
       "40    2121439416\n",
       "42     168552236\n",
       "43      16011717\n",
       "44      49699276\n",
       "50      56773621\n",
       "52     148393638\n",
       "60      22961364\n",
       "62      72519904\n",
       "70    1100217294\n",
       "71     195694309\n",
       "80    1649543876\n",
       "81     166360530\n",
       "92      16627350\n",
       "Name: USE_AMT, dtype: int64"
      ]
     },
     "execution_count": 8,
     "metadata": {},
     "output_type": "execute_result"
    }
   ],
   "source": [
    "card.gr"
   ]
  },
  {
   "cell_type": "markdown",
   "metadata": {},
   "source": [
    "# 성별별 유동인구 매출액 관계"
   ]
  },
  {
   "cell_type": "code",
   "execution_count": 82,
   "metadata": {},
   "outputs": [],
   "source": [
    "man_flow = pd.read_csv(\"man_flow.csv\")\n",
    "woman_flow = pd.read_csv(\"woman_flow.csv\")"
   ]
  },
  {
   "cell_type": "code",
   "execution_count": 83,
   "metadata": {},
   "outputs": [
    {
     "data": {
      "text/html": [
       "<div>\n",
       "<style scoped>\n",
       "    .dataframe tbody tr th:only-of-type {\n",
       "        vertical-align: middle;\n",
       "    }\n",
       "\n",
       "    .dataframe tbody tr th {\n",
       "        vertical-align: top;\n",
       "    }\n",
       "\n",
       "    .dataframe thead th {\n",
       "        text-align: right;\n",
       "    }\n",
       "</style>\n",
       "<table border=\"1\" class=\"dataframe\">\n",
       "  <thead>\n",
       "    <tr style=\"text-align: right;\">\n",
       "      <th></th>\n",
       "      <th>Unnamed: 0</th>\n",
       "      <th>STD_YM</th>\n",
       "      <th>MAN_FLOW_POP_CNT_0509</th>\n",
       "      <th>MAN_FLOW_POP_CNT_1014</th>\n",
       "      <th>MAN_FLOW_POP_CNT_1519</th>\n",
       "      <th>MAN_FLOW_POP_CNT_2529</th>\n",
       "      <th>MAN_FLOW_POP_CNT_3539</th>\n",
       "      <th>MAN_FLOW_POP_CNT_4549</th>\n",
       "      <th>MAN_FLOW_POP_CNT_5559</th>\n",
       "      <th>MAN_FLOW_POP_CNT_6569</th>\n",
       "      <th>MAN_FLOW_POP_CNT_70U</th>\n",
       "      <th>corona</th>\n",
       "    </tr>\n",
       "  </thead>\n",
       "  <tbody>\n",
       "    <tr>\n",
       "      <td>0</td>\n",
       "      <td>0</td>\n",
       "      <td>201902</td>\n",
       "      <td>232546.34</td>\n",
       "      <td>1134165.89</td>\n",
       "      <td>2708266.18</td>\n",
       "      <td>6890266.59</td>\n",
       "      <td>9125174.41</td>\n",
       "      <td>10807517.72</td>\n",
       "      <td>9454608.89</td>\n",
       "      <td>6028797.46</td>\n",
       "      <td>6295626.87</td>\n",
       "      <td>0</td>\n",
       "    </tr>\n",
       "    <tr>\n",
       "      <td>1</td>\n",
       "      <td>1</td>\n",
       "      <td>201903</td>\n",
       "      <td>286187.30</td>\n",
       "      <td>1175055.60</td>\n",
       "      <td>3623906.63</td>\n",
       "      <td>7792206.10</td>\n",
       "      <td>10355000.58</td>\n",
       "      <td>12417681.37</td>\n",
       "      <td>10845519.13</td>\n",
       "      <td>7013959.12</td>\n",
       "      <td>7393928.17</td>\n",
       "      <td>0</td>\n",
       "    </tr>\n",
       "    <tr>\n",
       "      <td>2</td>\n",
       "      <td>2</td>\n",
       "      <td>201904</td>\n",
       "      <td>282272.23</td>\n",
       "      <td>1331063.73</td>\n",
       "      <td>3557288.55</td>\n",
       "      <td>6933540.50</td>\n",
       "      <td>9382103.87</td>\n",
       "      <td>11260388.19</td>\n",
       "      <td>9550760.25</td>\n",
       "      <td>5840692.89</td>\n",
       "      <td>6548823.12</td>\n",
       "      <td>0</td>\n",
       "    </tr>\n",
       "    <tr>\n",
       "      <td>3</td>\n",
       "      <td>3</td>\n",
       "      <td>201905</td>\n",
       "      <td>347215.30</td>\n",
       "      <td>1574839.03</td>\n",
       "      <td>4024116.69</td>\n",
       "      <td>7381162.63</td>\n",
       "      <td>9658166.28</td>\n",
       "      <td>11641408.49</td>\n",
       "      <td>9794465.51</td>\n",
       "      <td>6030545.19</td>\n",
       "      <td>6814908.80</td>\n",
       "      <td>0</td>\n",
       "    </tr>\n",
       "    <tr>\n",
       "      <td>4</td>\n",
       "      <td>4</td>\n",
       "      <td>202002</td>\n",
       "      <td>155857.42</td>\n",
       "      <td>922387.41</td>\n",
       "      <td>1958302.10</td>\n",
       "      <td>5545092.66</td>\n",
       "      <td>7366179.59</td>\n",
       "      <td>8952555.86</td>\n",
       "      <td>7734060.29</td>\n",
       "      <td>5114608.92</td>\n",
       "      <td>5456068.84</td>\n",
       "      <td>3736</td>\n",
       "    </tr>\n",
       "  </tbody>\n",
       "</table>\n",
       "</div>"
      ],
      "text/plain": [
       "   Unnamed: 0  STD_YM  MAN_FLOW_POP_CNT_0509  MAN_FLOW_POP_CNT_1014  \\\n",
       "0           0  201902              232546.34             1134165.89   \n",
       "1           1  201903              286187.30             1175055.60   \n",
       "2           2  201904              282272.23             1331063.73   \n",
       "3           3  201905              347215.30             1574839.03   \n",
       "4           4  202002              155857.42              922387.41   \n",
       "\n",
       "   MAN_FLOW_POP_CNT_1519  MAN_FLOW_POP_CNT_2529  MAN_FLOW_POP_CNT_3539  \\\n",
       "0             2708266.18             6890266.59             9125174.41   \n",
       "1             3623906.63             7792206.10            10355000.58   \n",
       "2             3557288.55             6933540.50             9382103.87   \n",
       "3             4024116.69             7381162.63             9658166.28   \n",
       "4             1958302.10             5545092.66             7366179.59   \n",
       "\n",
       "   MAN_FLOW_POP_CNT_4549  MAN_FLOW_POP_CNT_5559  MAN_FLOW_POP_CNT_6569  \\\n",
       "0            10807517.72             9454608.89             6028797.46   \n",
       "1            12417681.37            10845519.13             7013959.12   \n",
       "2            11260388.19             9550760.25             5840692.89   \n",
       "3            11641408.49             9794465.51             6030545.19   \n",
       "4             8952555.86             7734060.29             5114608.92   \n",
       "\n",
       "   MAN_FLOW_POP_CNT_70U  corona  \n",
       "0            6295626.87       0  \n",
       "1            7393928.17       0  \n",
       "2            6548823.12       0  \n",
       "3            6814908.80       0  \n",
       "4            5456068.84    3736  "
      ]
     },
     "execution_count": 83,
     "metadata": {},
     "output_type": "execute_result"
    }
   ],
   "source": [
    "man_flow.head()"
   ]
  },
  {
   "cell_type": "code",
   "execution_count": 84,
   "metadata": {},
   "outputs": [
    {
     "data": {
      "text/plain": [
       "Index(['Unnamed: 0', 'STD_YM', 'MAN_FLOW_POP_CNT_0509',\n",
       "       'MAN_FLOW_POP_CNT_1014', 'MAN_FLOW_POP_CNT_1519',\n",
       "       'MAN_FLOW_POP_CNT_2529', 'MAN_FLOW_POP_CNT_3539',\n",
       "       'MAN_FLOW_POP_CNT_4549', 'MAN_FLOW_POP_CNT_5559',\n",
       "       'MAN_FLOW_POP_CNT_6569', 'MAN_FLOW_POP_CNT_70U', 'corona'],\n",
       "      dtype='object')"
      ]
     },
     "execution_count": 84,
     "metadata": {},
     "output_type": "execute_result"
    }
   ],
   "source": [
    "man_flow.columns"
   ]
  },
  {
   "cell_type": "code",
   "execution_count": 87,
   "metadata": {},
   "outputs": [],
   "source": [
    "man_flow = man_flow.drop(\"Unnamed: 0\", axis=1)\n",
    "woman_flow = woman_flow.drop(\"Unnamed: 0\", axis=1)"
   ]
  },
  {
   "cell_type": "code",
   "execution_count": 88,
   "metadata": {},
   "outputs": [
    {
     "data": {
      "text/html": [
       "<div>\n",
       "<style scoped>\n",
       "    .dataframe tbody tr th:only-of-type {\n",
       "        vertical-align: middle;\n",
       "    }\n",
       "\n",
       "    .dataframe tbody tr th {\n",
       "        vertical-align: top;\n",
       "    }\n",
       "\n",
       "    .dataframe thead th {\n",
       "        text-align: right;\n",
       "    }\n",
       "</style>\n",
       "<table border=\"1\" class=\"dataframe\">\n",
       "  <thead>\n",
       "    <tr style=\"text-align: right;\">\n",
       "      <th></th>\n",
       "      <th>STD_YM</th>\n",
       "      <th>MAN_FLOW_POP_CNT_0509</th>\n",
       "      <th>MAN_FLOW_POP_CNT_1014</th>\n",
       "      <th>MAN_FLOW_POP_CNT_1519</th>\n",
       "      <th>MAN_FLOW_POP_CNT_2529</th>\n",
       "      <th>MAN_FLOW_POP_CNT_3539</th>\n",
       "      <th>MAN_FLOW_POP_CNT_4549</th>\n",
       "      <th>MAN_FLOW_POP_CNT_5559</th>\n",
       "      <th>MAN_FLOW_POP_CNT_6569</th>\n",
       "      <th>MAN_FLOW_POP_CNT_70U</th>\n",
       "      <th>corona</th>\n",
       "    </tr>\n",
       "  </thead>\n",
       "  <tbody>\n",
       "    <tr>\n",
       "      <td>0</td>\n",
       "      <td>201902</td>\n",
       "      <td>232546.34</td>\n",
       "      <td>1134165.89</td>\n",
       "      <td>2708266.18</td>\n",
       "      <td>6890266.59</td>\n",
       "      <td>9125174.41</td>\n",
       "      <td>10807517.72</td>\n",
       "      <td>9454608.89</td>\n",
       "      <td>6028797.46</td>\n",
       "      <td>6295626.87</td>\n",
       "      <td>0</td>\n",
       "    </tr>\n",
       "    <tr>\n",
       "      <td>1</td>\n",
       "      <td>201903</td>\n",
       "      <td>286187.30</td>\n",
       "      <td>1175055.60</td>\n",
       "      <td>3623906.63</td>\n",
       "      <td>7792206.10</td>\n",
       "      <td>10355000.58</td>\n",
       "      <td>12417681.37</td>\n",
       "      <td>10845519.13</td>\n",
       "      <td>7013959.12</td>\n",
       "      <td>7393928.17</td>\n",
       "      <td>0</td>\n",
       "    </tr>\n",
       "    <tr>\n",
       "      <td>2</td>\n",
       "      <td>201904</td>\n",
       "      <td>282272.23</td>\n",
       "      <td>1331063.73</td>\n",
       "      <td>3557288.55</td>\n",
       "      <td>6933540.50</td>\n",
       "      <td>9382103.87</td>\n",
       "      <td>11260388.19</td>\n",
       "      <td>9550760.25</td>\n",
       "      <td>5840692.89</td>\n",
       "      <td>6548823.12</td>\n",
       "      <td>0</td>\n",
       "    </tr>\n",
       "    <tr>\n",
       "      <td>3</td>\n",
       "      <td>201905</td>\n",
       "      <td>347215.30</td>\n",
       "      <td>1574839.03</td>\n",
       "      <td>4024116.69</td>\n",
       "      <td>7381162.63</td>\n",
       "      <td>9658166.28</td>\n",
       "      <td>11641408.49</td>\n",
       "      <td>9794465.51</td>\n",
       "      <td>6030545.19</td>\n",
       "      <td>6814908.80</td>\n",
       "      <td>0</td>\n",
       "    </tr>\n",
       "    <tr>\n",
       "      <td>4</td>\n",
       "      <td>202002</td>\n",
       "      <td>155857.42</td>\n",
       "      <td>922387.41</td>\n",
       "      <td>1958302.10</td>\n",
       "      <td>5545092.66</td>\n",
       "      <td>7366179.59</td>\n",
       "      <td>8952555.86</td>\n",
       "      <td>7734060.29</td>\n",
       "      <td>5114608.92</td>\n",
       "      <td>5456068.84</td>\n",
       "      <td>3736</td>\n",
       "    </tr>\n",
       "  </tbody>\n",
       "</table>\n",
       "</div>"
      ],
      "text/plain": [
       "   STD_YM  MAN_FLOW_POP_CNT_0509  MAN_FLOW_POP_CNT_1014  \\\n",
       "0  201902              232546.34             1134165.89   \n",
       "1  201903              286187.30             1175055.60   \n",
       "2  201904              282272.23             1331063.73   \n",
       "3  201905              347215.30             1574839.03   \n",
       "4  202002              155857.42              922387.41   \n",
       "\n",
       "   MAN_FLOW_POP_CNT_1519  MAN_FLOW_POP_CNT_2529  MAN_FLOW_POP_CNT_3539  \\\n",
       "0             2708266.18             6890266.59             9125174.41   \n",
       "1             3623906.63             7792206.10            10355000.58   \n",
       "2             3557288.55             6933540.50             9382103.87   \n",
       "3             4024116.69             7381162.63             9658166.28   \n",
       "4             1958302.10             5545092.66             7366179.59   \n",
       "\n",
       "   MAN_FLOW_POP_CNT_4549  MAN_FLOW_POP_CNT_5559  MAN_FLOW_POP_CNT_6569  \\\n",
       "0            10807517.72             9454608.89             6028797.46   \n",
       "1            12417681.37            10845519.13             7013959.12   \n",
       "2            11260388.19             9550760.25             5840692.89   \n",
       "3            11641408.49             9794465.51             6030545.19   \n",
       "4             8952555.86             7734060.29             5114608.92   \n",
       "\n",
       "   MAN_FLOW_POP_CNT_70U  corona  \n",
       "0            6295626.87       0  \n",
       "1            7393928.17       0  \n",
       "2            6548823.12       0  \n",
       "3            6814908.80       0  \n",
       "4            5456068.84    3736  "
      ]
     },
     "execution_count": 88,
     "metadata": {},
     "output_type": "execute_result"
    }
   ],
   "source": [
    "man_flow.head()"
   ]
  },
  {
   "cell_type": "code",
   "execution_count": 89,
   "metadata": {},
   "outputs": [
    {
     "data": {
      "text/html": [
       "<div>\n",
       "<style scoped>\n",
       "    .dataframe tbody tr th:only-of-type {\n",
       "        vertical-align: middle;\n",
       "    }\n",
       "\n",
       "    .dataframe tbody tr th {\n",
       "        vertical-align: top;\n",
       "    }\n",
       "\n",
       "    .dataframe thead th {\n",
       "        text-align: right;\n",
       "    }\n",
       "</style>\n",
       "<table border=\"1\" class=\"dataframe\">\n",
       "  <thead>\n",
       "    <tr style=\"text-align: right;\">\n",
       "      <th></th>\n",
       "      <th>STD_YM</th>\n",
       "      <th>WMAN_FLOW_POP_CNT_0509</th>\n",
       "      <th>WMAN_FLOW_POP_CNT_1014</th>\n",
       "      <th>WMAN_FLOW_POP_CNT_1519</th>\n",
       "      <th>WMAN_FLOW_POP_CNT_2529</th>\n",
       "      <th>WMAN_FLOW_POP_CNT_3539</th>\n",
       "      <th>WMAN_FLOW_POP_CNT_4549</th>\n",
       "      <th>WMAN_FLOW_POP_CNT_5559</th>\n",
       "      <th>WMAN_FLOW_POP_CNT_6569</th>\n",
       "      <th>WMAN_FLOW_POP_CNT_70U</th>\n",
       "      <th>corona</th>\n",
       "    </tr>\n",
       "  </thead>\n",
       "  <tbody>\n",
       "    <tr>\n",
       "      <td>0</td>\n",
       "      <td>201902</td>\n",
       "      <td>299939.44</td>\n",
       "      <td>1242765.53</td>\n",
       "      <td>2826662.84</td>\n",
       "      <td>6443197.26</td>\n",
       "      <td>6864901.20</td>\n",
       "      <td>8038490.63</td>\n",
       "      <td>6409848.15</td>\n",
       "      <td>3271200.31</td>\n",
       "      <td>3910136.70</td>\n",
       "      <td>0</td>\n",
       "    </tr>\n",
       "    <tr>\n",
       "      <td>1</td>\n",
       "      <td>201903</td>\n",
       "      <td>352120.05</td>\n",
       "      <td>1245996.24</td>\n",
       "      <td>3782645.61</td>\n",
       "      <td>7370091.49</td>\n",
       "      <td>7714598.67</td>\n",
       "      <td>9244190.59</td>\n",
       "      <td>7413932.95</td>\n",
       "      <td>3910055.08</td>\n",
       "      <td>4699847.17</td>\n",
       "      <td>0</td>\n",
       "    </tr>\n",
       "    <tr>\n",
       "      <td>2</td>\n",
       "      <td>201904</td>\n",
       "      <td>348459.63</td>\n",
       "      <td>1411144.51</td>\n",
       "      <td>3657689.10</td>\n",
       "      <td>6665583.07</td>\n",
       "      <td>7364994.62</td>\n",
       "      <td>8874829.83</td>\n",
       "      <td>7054721.55</td>\n",
       "      <td>3802215.91</td>\n",
       "      <td>4923173.83</td>\n",
       "      <td>0</td>\n",
       "    </tr>\n",
       "    <tr>\n",
       "      <td>3</td>\n",
       "      <td>201905</td>\n",
       "      <td>426573.07</td>\n",
       "      <td>1704684.32</td>\n",
       "      <td>4400093.47</td>\n",
       "      <td>7010484.63</td>\n",
       "      <td>7784971.89</td>\n",
       "      <td>9395634.37</td>\n",
       "      <td>7349147.32</td>\n",
       "      <td>3988199.72</td>\n",
       "      <td>5232023.42</td>\n",
       "      <td>0</td>\n",
       "    </tr>\n",
       "    <tr>\n",
       "      <td>4</td>\n",
       "      <td>202002</td>\n",
       "      <td>191506.55</td>\n",
       "      <td>953397.45</td>\n",
       "      <td>1972919.27</td>\n",
       "      <td>5190908.40</td>\n",
       "      <td>5221749.59</td>\n",
       "      <td>6508280.75</td>\n",
       "      <td>5202936.24</td>\n",
       "      <td>3064194.75</td>\n",
       "      <td>3867147.32</td>\n",
       "      <td>3736</td>\n",
       "    </tr>\n",
       "  </tbody>\n",
       "</table>\n",
       "</div>"
      ],
      "text/plain": [
       "   STD_YM  WMAN_FLOW_POP_CNT_0509  WMAN_FLOW_POP_CNT_1014  \\\n",
       "0  201902               299939.44              1242765.53   \n",
       "1  201903               352120.05              1245996.24   \n",
       "2  201904               348459.63              1411144.51   \n",
       "3  201905               426573.07              1704684.32   \n",
       "4  202002               191506.55               953397.45   \n",
       "\n",
       "   WMAN_FLOW_POP_CNT_1519  WMAN_FLOW_POP_CNT_2529  WMAN_FLOW_POP_CNT_3539  \\\n",
       "0              2826662.84              6443197.26              6864901.20   \n",
       "1              3782645.61              7370091.49              7714598.67   \n",
       "2              3657689.10              6665583.07              7364994.62   \n",
       "3              4400093.47              7010484.63              7784971.89   \n",
       "4              1972919.27              5190908.40              5221749.59   \n",
       "\n",
       "   WMAN_FLOW_POP_CNT_4549  WMAN_FLOW_POP_CNT_5559  WMAN_FLOW_POP_CNT_6569  \\\n",
       "0              8038490.63              6409848.15              3271200.31   \n",
       "1              9244190.59              7413932.95              3910055.08   \n",
       "2              8874829.83              7054721.55              3802215.91   \n",
       "3              9395634.37              7349147.32              3988199.72   \n",
       "4              6508280.75              5202936.24              3064194.75   \n",
       "\n",
       "   WMAN_FLOW_POP_CNT_70U  corona  \n",
       "0             3910136.70       0  \n",
       "1             4699847.17       0  \n",
       "2             4923173.83       0  \n",
       "3             5232023.42       0  \n",
       "4             3867147.32    3736  "
      ]
     },
     "execution_count": 89,
     "metadata": {},
     "output_type": "execute_result"
    }
   ],
   "source": [
    "woman_flow.head()"
   ]
  },
  {
   "cell_type": "code",
   "execution_count": 91,
   "metadata": {},
   "outputs": [],
   "source": [
    "# 년월별로만 묶음\n",
    "card_re['STD_YM'] = card_re['STD_DD'].apply(lambda x: year_month(x))"
   ]
  },
  {
   "cell_type": "code",
   "execution_count": 92,
   "metadata": {},
   "outputs": [
    {
     "data": {
      "text/html": [
       "<div>\n",
       "<style scoped>\n",
       "    .dataframe tbody tr th:only-of-type {\n",
       "        vertical-align: middle;\n",
       "    }\n",
       "\n",
       "    .dataframe tbody tr th {\n",
       "        vertical-align: top;\n",
       "    }\n",
       "\n",
       "    .dataframe thead th {\n",
       "        text-align: right;\n",
       "    }\n",
       "</style>\n",
       "<table border=\"1\" class=\"dataframe\">\n",
       "  <thead>\n",
       "    <tr style=\"text-align: right;\">\n",
       "      <th></th>\n",
       "      <th>STD_DD</th>\n",
       "      <th>GU_CD</th>\n",
       "      <th>DONG_CD</th>\n",
       "      <th>MCT_CAT_CD</th>\n",
       "      <th>SEX_CD</th>\n",
       "      <th>AGE_CD</th>\n",
       "      <th>USE_CNT</th>\n",
       "      <th>USE_AMT</th>\n",
       "      <th>year</th>\n",
       "      <th>month</th>\n",
       "      <th>STD_YM</th>\n",
       "    </tr>\n",
       "  </thead>\n",
       "  <tbody>\n",
       "    <tr>\n",
       "      <td>0</td>\n",
       "      <td>20190201</td>\n",
       "      <td>110</td>\n",
       "      <td>517</td>\n",
       "      <td>10</td>\n",
       "      <td>F</td>\n",
       "      <td>25</td>\n",
       "      <td>11</td>\n",
       "      <td>595</td>\n",
       "      <td>2019</td>\n",
       "      <td>2</td>\n",
       "      <td>201902</td>\n",
       "    </tr>\n",
       "    <tr>\n",
       "      <td>1</td>\n",
       "      <td>20190201</td>\n",
       "      <td>110</td>\n",
       "      <td>517</td>\n",
       "      <td>10</td>\n",
       "      <td>F</td>\n",
       "      <td>50</td>\n",
       "      <td>5</td>\n",
       "      <td>243</td>\n",
       "      <td>2019</td>\n",
       "      <td>2</td>\n",
       "      <td>201902</td>\n",
       "    </tr>\n",
       "    <tr>\n",
       "      <td>2</td>\n",
       "      <td>20190201</td>\n",
       "      <td>110</td>\n",
       "      <td>517</td>\n",
       "      <td>10</td>\n",
       "      <td>F</td>\n",
       "      <td>55</td>\n",
       "      <td>5</td>\n",
       "      <td>27</td>\n",
       "      <td>2019</td>\n",
       "      <td>2</td>\n",
       "      <td>201902</td>\n",
       "    </tr>\n",
       "    <tr>\n",
       "      <td>3</td>\n",
       "      <td>20190201</td>\n",
       "      <td>110</td>\n",
       "      <td>517</td>\n",
       "      <td>10</td>\n",
       "      <td>M</td>\n",
       "      <td>20</td>\n",
       "      <td>11</td>\n",
       "      <td>243</td>\n",
       "      <td>2019</td>\n",
       "      <td>2</td>\n",
       "      <td>201902</td>\n",
       "    </tr>\n",
       "    <tr>\n",
       "      <td>4</td>\n",
       "      <td>20190201</td>\n",
       "      <td>110</td>\n",
       "      <td>517</td>\n",
       "      <td>10</td>\n",
       "      <td>M</td>\n",
       "      <td>25</td>\n",
       "      <td>11</td>\n",
       "      <td>433</td>\n",
       "      <td>2019</td>\n",
       "      <td>2</td>\n",
       "      <td>201902</td>\n",
       "    </tr>\n",
       "  </tbody>\n",
       "</table>\n",
       "</div>"
      ],
      "text/plain": [
       "     STD_DD  GU_CD  DONG_CD  MCT_CAT_CD SEX_CD  AGE_CD  USE_CNT  USE_AMT  \\\n",
       "0  20190201    110      517          10      F      25       11      595   \n",
       "1  20190201    110      517          10      F      50        5      243   \n",
       "2  20190201    110      517          10      F      55        5       27   \n",
       "3  20190201    110      517          10      M      20       11      243   \n",
       "4  20190201    110      517          10      M      25       11      433   \n",
       "\n",
       "   year  month  STD_YM  \n",
       "0  2019      2  201902  \n",
       "1  2019      2  201902  \n",
       "2  2019      2  201902  \n",
       "3  2019      2  201902  \n",
       "4  2019      2  201902  "
      ]
     },
     "execution_count": 92,
     "metadata": {},
     "output_type": "execute_result"
    }
   ],
   "source": [
    "card_re.head()"
   ]
  },
  {
   "cell_type": "code",
   "execution_count": 103,
   "metadata": {},
   "outputs": [],
   "source": [
    "# 년도별 성별별 매출액\n",
    "card_sex = card_re.pivot_table(\"USE_AMT\",\"STD_YM\",\"SEX_CD\")"
   ]
  },
  {
   "cell_type": "code",
   "execution_count": 107,
   "metadata": {},
   "outputs": [],
   "source": [
    "card_sex = card_sex.reset_index()"
   ]
  },
  {
   "cell_type": "code",
   "execution_count": 109,
   "metadata": {},
   "outputs": [
    {
     "data": {
      "text/html": [
       "<div>\n",
       "<style scoped>\n",
       "    .dataframe tbody tr th:only-of-type {\n",
       "        vertical-align: middle;\n",
       "    }\n",
       "\n",
       "    .dataframe tbody tr th {\n",
       "        vertical-align: top;\n",
       "    }\n",
       "\n",
       "    .dataframe thead th {\n",
       "        text-align: right;\n",
       "    }\n",
       "</style>\n",
       "<table border=\"1\" class=\"dataframe\">\n",
       "  <thead>\n",
       "    <tr style=\"text-align: right;\">\n",
       "      <th>SEX_CD</th>\n",
       "      <th>STD_YM</th>\n",
       "      <th>F</th>\n",
       "      <th>M</th>\n",
       "    </tr>\n",
       "  </thead>\n",
       "  <tbody>\n",
       "    <tr>\n",
       "      <td>0</td>\n",
       "      <td>201902</td>\n",
       "      <td>2836.319249</td>\n",
       "      <td>2668.449004</td>\n",
       "    </tr>\n",
       "    <tr>\n",
       "      <td>1</td>\n",
       "      <td>201903</td>\n",
       "      <td>2829.027770</td>\n",
       "      <td>2669.219104</td>\n",
       "    </tr>\n",
       "    <tr>\n",
       "      <td>2</td>\n",
       "      <td>201904</td>\n",
       "      <td>2830.727156</td>\n",
       "      <td>2660.909980</td>\n",
       "    </tr>\n",
       "    <tr>\n",
       "      <td>3</td>\n",
       "      <td>201905</td>\n",
       "      <td>2869.790840</td>\n",
       "      <td>2674.698156</td>\n",
       "    </tr>\n",
       "    <tr>\n",
       "      <td>4</td>\n",
       "      <td>202002</td>\n",
       "      <td>2451.052408</td>\n",
       "      <td>2369.657882</td>\n",
       "    </tr>\n",
       "  </tbody>\n",
       "</table>\n",
       "</div>"
      ],
      "text/plain": [
       "SEX_CD  STD_YM            F            M\n",
       "0       201902  2836.319249  2668.449004\n",
       "1       201903  2829.027770  2669.219104\n",
       "2       201904  2830.727156  2660.909980\n",
       "3       201905  2869.790840  2674.698156\n",
       "4       202002  2451.052408  2369.657882"
      ]
     },
     "execution_count": 109,
     "metadata": {},
     "output_type": "execute_result"
    }
   ],
   "source": [
    "card_sex.head()"
   ]
  },
  {
   "cell_type": "code",
   "execution_count": 111,
   "metadata": {},
   "outputs": [
    {
     "data": {
      "text/plain": [
       "[<matplotlib.lines.Line2D at 0x1a60fbd5f28>]"
      ]
     },
     "execution_count": 111,
     "metadata": {},
     "output_type": "execute_result"
    },
    {
     "data": {
      "image/png": "[encoded data removed]",
      "text/plain": [
       "<Figure size 432x288 with 2 Axes>"
      ]
     },
     "metadata": {
      "needs_background": "light"
     },
     "output_type": "display_data"
    }
   ],
   "source": [
    "# 여성 월별 카드소비 매출액\n",
    "# 위 카드소비, 아래 유동인구\n",
    "plt.subplot(2,1,1)\n",
    "plt.plot(card_sex[\"F\"])\n",
    "plt.subplot(2,1,2)\n",
    "plt.plot(woman_flow[\"WMAN_FLOW_POP_CNT_2529\"])"
   ]
  },
  {
   "cell_type": "markdown",
   "metadata": {},
   "source": [
    "- 2019년에 일정하다가 코로나 이후로 팍 떨어진 후, 다시 급상승\n",
    "- 유동인구와 비슷한 형태를 띄고 있음"
   ]
  },
  {
   "cell_type": "code",
   "execution_count": 113,
   "metadata": {},
   "outputs": [
    {
     "data": {
      "text/plain": [
       "[<matplotlib.lines.Line2D at 0x1a60fd34710>]"
      ]
     },
     "execution_count": 113,
     "metadata": {},
     "output_type": "execute_result"
    },
    {
     "data": {
      "image/png": "[encoded data removed]",
      "text/plain": [
       "<Figure size 432x288 with 2 Axes>"
      ]
     },
     "metadata": {
      "needs_background": "light"
     },
     "output_type": "display_data"
    }
   ],
   "source": [
    "plt.subplot(2,1,1)\n",
    "plt.plot(card_sex[\"F\"])\n",
    "plt.subplot(2,1,2)\n",
    "plt.plot(woman_flow[\"WMAN_FLOW_POP_CNT_6569\"])"
   ]
  },
  {
   "cell_type": "code",
   "execution_count": 112,
   "metadata": {},
   "outputs": [
    {
     "data": {
      "text/plain": [
       "[<matplotlib.lines.Line2D at 0x1a60fc89668>]"
      ]
     },
     "execution_count": 112,
     "metadata": {},
     "output_type": "execute_result"
    },
    {
     "data": {
      "image/png": "[encoded data removed]",
      "text/plain": [
       "<Figure size 432x288 with 2 Axes>"
      ]
     },
     "metadata": {
      "needs_background": "light"
     },
     "output_type": "display_data"
    }
   ],
   "source": [
    "plt.subplot(2,1,1)\n",
    "plt.plot(card_sex[\"M\"])\n",
    "plt.subplot(2,1,2)\n",
    "plt.plot(man_flow[\"MAN_FLOW_POP_CNT_2529\"])"
   ]
  },
  {
   "cell_type": "markdown",
   "metadata": {},
   "source": [
    "- 마찬가지로 일정하다가 팍 떨어지고 급상승, 여성보다 상승의 폭이 초반에는 작았다가 갑자기 팍 오름"
   ]
  },
  {
   "cell_type": "code",
   "execution_count": null,
   "metadata": {},
   "outputs": [],
   "source": []
  }
 ],
 "metadata": {
  "kernelspec": {
   "display_name": "Python 3",
   "language": "python",
   "name": "python3"
  },
  "language_info": {
   "codemirror_mode": {
    "name": "ipython",
    "version": 3
   },
   "file_extension": ".py",
   "mimetype": "text/x-python",
   "name": "python",
   "nbconvert_exporter": "python",
   "pygments_lexer": "ipython3",
   "version": "3.6.9"
  }
 },
 "nbformat": 4,
 "nbformat_minor": 2
}
