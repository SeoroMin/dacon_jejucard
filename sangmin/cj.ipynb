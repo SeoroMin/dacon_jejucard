{
 "cells": [
  {
   "cell_type": "code",
   "execution_count": 18,
   "metadata": {},
   "outputs": [],
   "source": [
    "import pandas as pd\n",
    "import numpy as np\n",
    "\n",
    "import matplotlib\n",
    "import matplotlib.pyplot as plt\n",
    "import seaborn as sns\n",
    "\n",
    "matplotlib.rcParams['font.family'].insert(0, 'Malgun Gothic')"
   ]
  },
  {
   "cell_type": "code",
   "execution_count": 19,
   "metadata": {},
   "outputs": [],
   "source": [
    "cj = pd.read_excel(\"cj.xlsx\")"
   ]
  },
  {
   "cell_type": "code",
   "execution_count": 20,
   "metadata": {},
   "outputs": [
    {
     "data": {
      "text/html": [
       "<div>\n",
       "<style scoped>\n",
       "    .dataframe tbody tr th:only-of-type {\n",
       "        vertical-align: middle;\n",
       "    }\n",
       "\n",
       "    .dataframe tbody tr th {\n",
       "        vertical-align: top;\n",
       "    }\n",
       "\n",
       "    .dataframe thead th {\n",
       "        text-align: right;\n",
       "    }\n",
       "</style>\n",
       "<table border=\"1\" class=\"dataframe\">\n",
       "  <thead>\n",
       "    <tr style=\"text-align: right;\">\n",
       "      <th></th>\n",
       "      <th>DL_YMD</th>\n",
       "      <th>DL_GD_LCLS_NM</th>\n",
       "      <th>DL_GD_LCLS_CD</th>\n",
       "      <th>CTPV_NM</th>\n",
       "      <th>CTPV_CD</th>\n",
       "      <th>CTGG_NM</th>\n",
       "      <th>CTGG_CD</th>\n",
       "      <th>HDNG_NM</th>\n",
       "      <th>HDNG_CD</th>\n",
       "      <th>INVC_CONT</th>\n",
       "    </tr>\n",
       "  </thead>\n",
       "  <tbody>\n",
       "    <tr>\n",
       "      <td>0</td>\n",
       "      <td>190201</td>\n",
       "      <td>도서/음반</td>\n",
       "      <td>12</td>\n",
       "      <td>서울특별시</td>\n",
       "      <td>11</td>\n",
       "      <td>중구</td>\n",
       "      <td>14</td>\n",
       "      <td>동화동</td>\n",
       "      <td>665</td>\n",
       "      <td>16</td>\n",
       "    </tr>\n",
       "    <tr>\n",
       "      <td>1</td>\n",
       "      <td>190201</td>\n",
       "      <td>가구/인테리어</td>\n",
       "      <td>10</td>\n",
       "      <td>서울특별시</td>\n",
       "      <td>11</td>\n",
       "      <td>중구</td>\n",
       "      <td>14</td>\n",
       "      <td>신당동</td>\n",
       "      <td>615</td>\n",
       "      <td>4</td>\n",
       "    </tr>\n",
       "    <tr>\n",
       "      <td>2</td>\n",
       "      <td>190201</td>\n",
       "      <td>가구/인테리어</td>\n",
       "      <td>10</td>\n",
       "      <td>대구광역시</td>\n",
       "      <td>27</td>\n",
       "      <td>중구</td>\n",
       "      <td>11</td>\n",
       "      <td>성내1동</td>\n",
       "      <td>565</td>\n",
       "      <td>1</td>\n",
       "    </tr>\n",
       "    <tr>\n",
       "      <td>3</td>\n",
       "      <td>190201</td>\n",
       "      <td>도서/음반</td>\n",
       "      <td>12</td>\n",
       "      <td>대구광역시</td>\n",
       "      <td>27</td>\n",
       "      <td>중구</td>\n",
       "      <td>11</td>\n",
       "      <td>남산2동</td>\n",
       "      <td>650</td>\n",
       "      <td>6</td>\n",
       "    </tr>\n",
       "    <tr>\n",
       "      <td>4</td>\n",
       "      <td>190201</td>\n",
       "      <td>디지털/가전</td>\n",
       "      <td>13</td>\n",
       "      <td>대구광역시</td>\n",
       "      <td>27</td>\n",
       "      <td>수성구</td>\n",
       "      <td>26</td>\n",
       "      <td>고산3동</td>\n",
       "      <td>690</td>\n",
       "      <td>21</td>\n",
       "    </tr>\n",
       "  </tbody>\n",
       "</table>\n",
       "</div>"
      ],
      "text/plain": [
       "   DL_YMD DL_GD_LCLS_NM  DL_GD_LCLS_CD CTPV_NM  CTPV_CD CTGG_NM  CTGG_CD  \\\n",
       "0  190201         도서/음반             12   서울특별시       11      중구       14   \n",
       "1  190201       가구/인테리어             10   서울특별시       11      중구       14   \n",
       "2  190201       가구/인테리어             10   대구광역시       27      중구       11   \n",
       "3  190201         도서/음반             12   대구광역시       27      중구       11   \n",
       "4  190201        디지털/가전             13   대구광역시       27     수성구       26   \n",
       "\n",
       "  HDNG_NM  HDNG_CD  INVC_CONT  \n",
       "0     동화동      665         16  \n",
       "1     신당동      615          4  \n",
       "2    성내1동      565          1  \n",
       "3    남산2동      650          6  \n",
       "4    고산3동      690         21  "
      ]
     },
     "execution_count": 20,
     "metadata": {},
     "output_type": "execute_result"
    }
   ],
   "source": [
    "cj.head()"
   ]
  },
  {
   "cell_type": "code",
   "execution_count": 21,
   "metadata": {},
   "outputs": [],
   "source": [
    "def year_month(data):\n",
    "    data = str(data)\n",
    "    return int(data[0:4])"
   ]
  },
  {
   "cell_type": "code",
   "execution_count": 22,
   "metadata": {},
   "outputs": [],
   "source": [
    "cj['DL_YM'] = cj['DL_YMD'].apply(lambda x: year_month(x))"
   ]
  },
  {
   "cell_type": "code",
   "execution_count": 23,
   "metadata": {},
   "outputs": [
    {
     "data": {
      "text/html": [
       "<div>\n",
       "<style scoped>\n",
       "    .dataframe tbody tr th:only-of-type {\n",
       "        vertical-align: middle;\n",
       "    }\n",
       "\n",
       "    .dataframe tbody tr th {\n",
       "        vertical-align: top;\n",
       "    }\n",
       "\n",
       "    .dataframe thead th {\n",
       "        text-align: right;\n",
       "    }\n",
       "</style>\n",
       "<table border=\"1\" class=\"dataframe\">\n",
       "  <thead>\n",
       "    <tr style=\"text-align: right;\">\n",
       "      <th></th>\n",
       "      <th>DL_YMD</th>\n",
       "      <th>DL_GD_LCLS_NM</th>\n",
       "      <th>DL_GD_LCLS_CD</th>\n",
       "      <th>CTPV_NM</th>\n",
       "      <th>CTPV_CD</th>\n",
       "      <th>CTGG_NM</th>\n",
       "      <th>CTGG_CD</th>\n",
       "      <th>HDNG_NM</th>\n",
       "      <th>HDNG_CD</th>\n",
       "      <th>INVC_CONT</th>\n",
       "      <th>DL_YM</th>\n",
       "    </tr>\n",
       "  </thead>\n",
       "  <tbody>\n",
       "    <tr>\n",
       "      <td>0</td>\n",
       "      <td>190201</td>\n",
       "      <td>도서/음반</td>\n",
       "      <td>12</td>\n",
       "      <td>서울특별시</td>\n",
       "      <td>11</td>\n",
       "      <td>중구</td>\n",
       "      <td>14</td>\n",
       "      <td>동화동</td>\n",
       "      <td>665</td>\n",
       "      <td>16</td>\n",
       "      <td>1902</td>\n",
       "    </tr>\n",
       "    <tr>\n",
       "      <td>1</td>\n",
       "      <td>190201</td>\n",
       "      <td>가구/인테리어</td>\n",
       "      <td>10</td>\n",
       "      <td>서울특별시</td>\n",
       "      <td>11</td>\n",
       "      <td>중구</td>\n",
       "      <td>14</td>\n",
       "      <td>신당동</td>\n",
       "      <td>615</td>\n",
       "      <td>4</td>\n",
       "      <td>1902</td>\n",
       "    </tr>\n",
       "    <tr>\n",
       "      <td>2</td>\n",
       "      <td>190201</td>\n",
       "      <td>가구/인테리어</td>\n",
       "      <td>10</td>\n",
       "      <td>대구광역시</td>\n",
       "      <td>27</td>\n",
       "      <td>중구</td>\n",
       "      <td>11</td>\n",
       "      <td>성내1동</td>\n",
       "      <td>565</td>\n",
       "      <td>1</td>\n",
       "      <td>1902</td>\n",
       "    </tr>\n",
       "    <tr>\n",
       "      <td>3</td>\n",
       "      <td>190201</td>\n",
       "      <td>도서/음반</td>\n",
       "      <td>12</td>\n",
       "      <td>대구광역시</td>\n",
       "      <td>27</td>\n",
       "      <td>중구</td>\n",
       "      <td>11</td>\n",
       "      <td>남산2동</td>\n",
       "      <td>650</td>\n",
       "      <td>6</td>\n",
       "      <td>1902</td>\n",
       "    </tr>\n",
       "    <tr>\n",
       "      <td>4</td>\n",
       "      <td>190201</td>\n",
       "      <td>디지털/가전</td>\n",
       "      <td>13</td>\n",
       "      <td>대구광역시</td>\n",
       "      <td>27</td>\n",
       "      <td>수성구</td>\n",
       "      <td>26</td>\n",
       "      <td>고산3동</td>\n",
       "      <td>690</td>\n",
       "      <td>21</td>\n",
       "      <td>1902</td>\n",
       "    </tr>\n",
       "  </tbody>\n",
       "</table>\n",
       "</div>"
      ],
      "text/plain": [
       "   DL_YMD DL_GD_LCLS_NM  DL_GD_LCLS_CD CTPV_NM  CTPV_CD CTGG_NM  CTGG_CD  \\\n",
       "0  190201         도서/음반             12   서울특별시       11      중구       14   \n",
       "1  190201       가구/인테리어             10   서울특별시       11      중구       14   \n",
       "2  190201       가구/인테리어             10   대구광역시       27      중구       11   \n",
       "3  190201         도서/음반             12   대구광역시       27      중구       11   \n",
       "4  190201        디지털/가전             13   대구광역시       27     수성구       26   \n",
       "\n",
       "  HDNG_NM  HDNG_CD  INVC_CONT  DL_YM  \n",
       "0     동화동      665         16   1902  \n",
       "1     신당동      615          4   1902  \n",
       "2    성내1동      565          1   1902  \n",
       "3    남산2동      650          6   1902  \n",
       "4    고산3동      690         21   1902  "
      ]
     },
     "execution_count": 23,
     "metadata": {},
     "output_type": "execute_result"
    }
   ],
   "source": [
    "cj.head()"
   ]
  },
  {
   "cell_type": "code",
   "execution_count": 24,
   "metadata": {},
   "outputs": [],
   "source": [
    "cj_group = cj.pivot_table(\"INVC_CONT\",\"DL_YM\",\"DL_GD_LCLS_NM\")"
   ]
  },
  {
   "cell_type": "code",
   "execution_count": 25,
   "metadata": {},
   "outputs": [
    {
     "data": {
      "text/html": [
       "<div>\n",
       "<style scoped>\n",
       "    .dataframe tbody tr th:only-of-type {\n",
       "        vertical-align: middle;\n",
       "    }\n",
       "\n",
       "    .dataframe tbody tr th {\n",
       "        vertical-align: top;\n",
       "    }\n",
       "\n",
       "    .dataframe thead th {\n",
       "        text-align: right;\n",
       "    }\n",
       "</style>\n",
       "<table border=\"1\" class=\"dataframe\">\n",
       "  <thead>\n",
       "    <tr style=\"text-align: right;\">\n",
       "      <th>DL_GD_LCLS_NM</th>\n",
       "      <th>가구/인테리어</th>\n",
       "      <th>도서/음반</th>\n",
       "      <th>디지털/가전</th>\n",
       "      <th>생활건강</th>\n",
       "      <th>스포츠/레저</th>\n",
       "      <th>식품</th>\n",
       "      <th>출산/육아</th>\n",
       "      <th>패션의류</th>\n",
       "      <th>패션잡화</th>\n",
       "      <th>화장품/미용</th>\n",
       "    </tr>\n",
       "    <tr>\n",
       "      <th>DL_YM</th>\n",
       "      <th></th>\n",
       "      <th></th>\n",
       "      <th></th>\n",
       "      <th></th>\n",
       "      <th></th>\n",
       "      <th></th>\n",
       "      <th></th>\n",
       "      <th></th>\n",
       "      <th></th>\n",
       "      <th></th>\n",
       "    </tr>\n",
       "  </thead>\n",
       "  <tbody>\n",
       "    <tr>\n",
       "      <td>1902</td>\n",
       "      <td>35.911602</td>\n",
       "      <td>69.882845</td>\n",
       "      <td>79.238345</td>\n",
       "      <td>166.210790</td>\n",
       "      <td>13.020704</td>\n",
       "      <td>190.798319</td>\n",
       "      <td>6.976419</td>\n",
       "      <td>173.461143</td>\n",
       "      <td>72.933333</td>\n",
       "      <td>125.826211</td>\n",
       "    </tr>\n",
       "    <tr>\n",
       "      <td>1903</td>\n",
       "      <td>35.328351</td>\n",
       "      <td>70.898456</td>\n",
       "      <td>73.049858</td>\n",
       "      <td>166.567681</td>\n",
       "      <td>12.247685</td>\n",
       "      <td>189.463050</td>\n",
       "      <td>6.642397</td>\n",
       "      <td>197.116214</td>\n",
       "      <td>71.651675</td>\n",
       "      <td>111.913656</td>\n",
       "    </tr>\n",
       "    <tr>\n",
       "      <td>1904</td>\n",
       "      <td>35.393728</td>\n",
       "      <td>59.229580</td>\n",
       "      <td>71.570663</td>\n",
       "      <td>162.626390</td>\n",
       "      <td>13.107163</td>\n",
       "      <td>210.709662</td>\n",
       "      <td>6.838750</td>\n",
       "      <td>217.840097</td>\n",
       "      <td>79.160156</td>\n",
       "      <td>120.898068</td>\n",
       "    </tr>\n",
       "    <tr>\n",
       "      <td>1905</td>\n",
       "      <td>33.885278</td>\n",
       "      <td>52.737138</td>\n",
       "      <td>70.465248</td>\n",
       "      <td>161.536689</td>\n",
       "      <td>13.547233</td>\n",
       "      <td>207.525012</td>\n",
       "      <td>6.941070</td>\n",
       "      <td>225.724040</td>\n",
       "      <td>80.192050</td>\n",
       "      <td>118.341326</td>\n",
       "    </tr>\n",
       "    <tr>\n",
       "      <td>2002</td>\n",
       "      <td>36.268421</td>\n",
       "      <td>78.920000</td>\n",
       "      <td>82.790161</td>\n",
       "      <td>261.752124</td>\n",
       "      <td>11.591442</td>\n",
       "      <td>312.846000</td>\n",
       "      <td>7.681052</td>\n",
       "      <td>183.338500</td>\n",
       "      <td>68.371414</td>\n",
       "      <td>136.978011</td>\n",
       "    </tr>\n",
       "  </tbody>\n",
       "</table>\n",
       "</div>"
      ],
      "text/plain": [
       "DL_GD_LCLS_NM    가구/인테리어      도서/음반     디지털/가전        생활건강     스포츠/레저  \\\n",
       "DL_YM                                                                   \n",
       "1902           35.911602  69.882845  79.238345  166.210790  13.020704   \n",
       "1903           35.328351  70.898456  73.049858  166.567681  12.247685   \n",
       "1904           35.393728  59.229580  71.570663  162.626390  13.107163   \n",
       "1905           33.885278  52.737138  70.465248  161.536689  13.547233   \n",
       "2002           36.268421  78.920000  82.790161  261.752124  11.591442   \n",
       "\n",
       "DL_GD_LCLS_NM          식품     출산/육아        패션의류       패션잡화      화장품/미용  \n",
       "DL_YM                                                                   \n",
       "1902           190.798319  6.976419  173.461143  72.933333  125.826211  \n",
       "1903           189.463050  6.642397  197.116214  71.651675  111.913656  \n",
       "1904           210.709662  6.838750  217.840097  79.160156  120.898068  \n",
       "1905           207.525012  6.941070  225.724040  80.192050  118.341326  \n",
       "2002           312.846000  7.681052  183.338500  68.371414  136.978011  "
      ]
     },
     "execution_count": 25,
     "metadata": {},
     "output_type": "execute_result"
    }
   ],
   "source": [
    "cj_group.head()"
   ]
  },
  {
   "cell_type": "code",
   "execution_count": 34,
   "metadata": {},
   "outputs": [],
   "source": [
    "cj_group = cj_group.reset_index()"
   ]
  },
  {
   "cell_type": "code",
   "execution_count": 36,
   "metadata": {},
   "outputs": [],
   "source": [
    "cj_group_temp = cj_group.drop(\"DL_YM\", axis=1)"
   ]
  },
  {
   "cell_type": "code",
   "execution_count": 38,
   "metadata": {},
   "outputs": [
    {
     "data": {
      "text/plain": [
       "<matplotlib.axes._subplots.AxesSubplot at 0x1e559db4860>"
      ]
     },
     "execution_count": 38,
     "metadata": {},
     "output_type": "execute_result"
    },
    {
     "data": {
      "image/png": "[encoded data removed]",
      "text/plain": [
       "<Figure size 432x288 with 1 Axes>"
      ]
     },
     "metadata": {
      "needs_background": "light"
     },
     "output_type": "display_data"
    }
   ],
   "source": [
    "cj_group_temp.mean().plot(kind=\"bar\")"
   ]
  },
  {
   "cell_type": "code",
   "execution_count": 39,
   "metadata": {},
   "outputs": [
    {
     "data": {
      "text/plain": [
       "[<matplotlib.lines.Line2D at 0x1e5591af3c8>]"
      ]
     },
     "execution_count": 39,
     "metadata": {},
     "output_type": "execute_result"
    },
    {
     "data": {
      "image/png": "[encoded data removed]",
      "text/plain": [
       "<Figure size 432x288 with 2 Axes>"
      ]
     },
     "metadata": {
      "needs_background": "light"
     },
     "output_type": "display_data"
    }
   ],
   "source": [
    "plt.subplot(2,1,1)\n",
    "plt.plot(cj_group[\"가구/인테리어\"])\n",
    "plt.subplot(2,1,2)\n",
    "plt.plot(cj_group[\"도서/음반\"])"
   ]
  },
  {
   "cell_type": "code",
   "execution_count": 40,
   "metadata": {},
   "outputs": [
    {
     "data": {
      "text/plain": [
       "[<matplotlib.lines.Line2D at 0x1e559ebc4a8>]"
      ]
     },
     "execution_count": 40,
     "metadata": {},
     "output_type": "execute_result"
    },
    {
     "data": {
      "image/png": "[encoded data removed]",
      "text/plain": [
       "<Figure size 432x288 with 2 Axes>"
      ]
     },
     "metadata": {
      "needs_background": "light"
     },
     "output_type": "display_data"
    }
   ],
   "source": [
    "plt.subplot(2,1,1)\n",
    "plt.plot(cj_group[\"디지털/가전\"])\n",
    "plt.subplot(2,1,2)\n",
    "plt.plot(cj_group[\"생활건강\"])"
   ]
  },
  {
   "cell_type": "code",
   "execution_count": 42,
   "metadata": {},
   "outputs": [
    {
     "data": {
      "text/plain": [
       "[<matplotlib.lines.Line2D at 0x1e559e6b8d0>]"
      ]
     },
     "execution_count": 42,
     "metadata": {},
     "output_type": "execute_result"
    },
    {
     "data": {
      "image/png": "[encoded data removed]",
      "text/plain": [
       "<Figure size 432x288 with 2 Axes>"
      ]
     },
     "metadata": {
      "needs_background": "light"
     },
     "output_type": "display_data"
    }
   ],
   "source": [
    "plt.subplot(2,1,1)\n",
    "plt.plot(cj_group[\"스포츠/레저\"])\n",
    "plt.subplot(2,1,2)\n",
    "plt.plot(cj_group[\"식품\"])"
   ]
  },
  {
   "cell_type": "code",
   "execution_count": 43,
   "metadata": {},
   "outputs": [
    {
     "data": {
      "text/plain": [
       "[<matplotlib.lines.Line2D at 0x1e556d7ef98>]"
      ]
     },
     "execution_count": 43,
     "metadata": {},
     "output_type": "execute_result"
    },
    {
     "data": {
      "image/png": "[encoded data removed]",
      "text/plain": [
       "<Figure size 432x288 with 2 Axes>"
      ]
     },
     "metadata": {
      "needs_background": "light"
     },
     "output_type": "display_data"
    }
   ],
   "source": [
    "plt.subplot(2,1,1)\n",
    "plt.plot(cj_group[\"출산/육아\"])\n",
    "plt.subplot(2,1,2)\n",
    "plt.plot(cj_group[\"패션의류\"])"
   ]
  },
  {
   "cell_type": "code",
   "execution_count": 44,
   "metadata": {},
   "outputs": [
    {
     "data": {
      "text/plain": [
       "[<matplotlib.lines.Line2D at 0x1e556d62630>]"
      ]
     },
     "execution_count": 44,
     "metadata": {},
     "output_type": "execute_result"
    },
    {
     "data": {
      "image/png": "[encoded data removed]",
      "text/plain": [
       "<Figure size 432x288 with 2 Axes>"
      ]
     },
     "metadata": {
      "needs_background": "light"
     },
     "output_type": "display_data"
    }
   ],
   "source": [
    "plt.subplot(2,1,1)\n",
    "plt.plot(cj_group[\"패션잡화\"])\n",
    "plt.subplot(2,1,2)\n",
    "plt.plot(cj_group[\"화장품/미용\"])"
   ]
  },
  {
   "cell_type": "code",
   "execution_count": null,
   "metadata": {},
   "outputs": [],
   "source": []
  }
 ],
 "metadata": {
  "kernelspec": {
   "display_name": "Python 3",
   "language": "python",
   "name": "python3"
  },
  "language_info": {
   "codemirror_mode": {
    "name": "ipython",
    "version": 3
   },
   "file_extension": ".py",
   "mimetype": "text/x-python",
   "name": "python",
   "nbconvert_exporter": "python",
   "pygments_lexer": "ipython3",
   "version": "3.6.9"
  }
 },
 "nbformat": 4,
 "nbformat_minor": 2
}
